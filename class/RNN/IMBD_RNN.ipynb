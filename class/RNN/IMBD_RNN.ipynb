{
  "cells": [
    {
      "cell_type": "markdown",
      "metadata": {
        "id": "SxzxywlkwdwF"
      },
      "source": [
        "It is highly recommended to use a powerful **GPU**, you can use it for free uploading this notebook to [Google Colab](https://colab.research.google.com/notebooks/intro.ipynb).\n",
        "<table align=\"center\">\n",
        " <td align=\"center\"><a target=\"_blank\" href=\"https://colab.research.google.com/github/mehrerm/intro_deep_learning/blob/main/class/RNN/IMBD_RNN.ipynb\">\n",
        "        <img src=\"https://colab.research.google.com/img/colab_favicon_256px.png\"  width=\"50\" height=\"50\" style=\"padding-bottom:5px;\" />Run in Google Colab</a></td>\n",
        "  <td align=\"center\"><a target=\"_blank\" href=\"https://github.com/mehrerm/intro_deep_learning/blob/main/class/RNN/IMBD_RNN.ipynb\">\n",
        "        <img src=\"https://github.githubassets.com/images/modules/logos_page/GitHub-Mark.png\"  width=\"50\" height=\"50\" style=\"padding-bottom:5px;\" />View Source on GitHub</a></td>\n",
        "</table>"
      ]
    },
    {
      "cell_type": "markdown",
      "metadata": {
        "id": "d4u04uiDwdwH"
      },
      "source": [
        "# Classification Example\n",
        " Two-class classification, or binary classification, may be the most widely applied kind of machine-learning problem. In this example, you’ll learn to classify movie reviews as positive or negative, based on the text content of the reviews.\n"
      ]
    },
    {
      "cell_type": "code",
      "execution_count": 3,
      "metadata": {
        "id": "9Cqj_0ywwdwH"
      },
      "outputs": [],
      "source": [
        "import tensorflow as tf\n",
        "from tensorflow import keras\n",
        "from tensorflow.keras import layers\n",
        "import numpy as np\n",
        "import matplotlib.pyplot as plt\n",
        "import pandas as pd\n",
        "\n",
        "\n",
        "def show_loss_accuracy_evolution(history):\n",
        "    hist = pd.DataFrame(history.history)\n",
        "    hist['epoch'] = history.epoch\n",
        "\n",
        "    fig, (ax1, ax2) = plt.subplots(1, 2, figsize=(16, 6))\n",
        "\n",
        "    ax1.set_xlabel('Epoch')\n",
        "    ax1.set_ylabel('Sparse Categorical Crossentropy')\n",
        "    ax1.plot(hist['epoch'], hist['loss'], label='Train Error')\n",
        "    ax1.plot(hist['epoch'], hist['val_loss'], label='Val Error')\n",
        "    ax1.grid()\n",
        "    ax1.legend()\n",
        "\n",
        "    ax2.set_xlabel('Epoch')\n",
        "    ax2.set_ylabel('Accuracy')\n",
        "    ax2.plot(hist['epoch'], hist['accuracy'], label='Train Accuracy')\n",
        "    ax2.plot(hist['epoch'], hist['val_accuracy'], label='Val Accuracy')\n",
        "    ax2.grid()\n",
        "    ax2.legend()\n",
        "\n",
        "    plt.show()"
      ]
    },
    {
      "cell_type": "markdown",
      "metadata": {
        "id": "n0V1RAShwdwI"
      },
      "source": [
        "## The Dataset: The IMDB dataset\n",
        "We’ll work with the IMDB dataset: a set of 50,000 highly polarized reviews from the Internet Movie Database. They’re split into 25,000 reviews for training and 25,000 reviews for testing, each set consisting of 50% negative and 50% positive reviews. The  parameter `num_words` controls how many words different we want to use."
      ]
    },
    {
      "cell_type": "code",
      "execution_count": 4,
      "metadata": {
        "colab": {
          "base_uri": "https://localhost:8080/"
        },
        "id": "t9BUmA1PwdwI",
        "outputId": "33fd208d-9ea5-4eef-8b5d-b7292a39b07c"
      },
      "outputs": [
        {
          "output_type": "stream",
          "name": "stdout",
          "text": [
            "Downloading data from https://storage.googleapis.com/tensorflow/tf-keras-datasets/imdb.npz\n",
            "\u001b[1m17464789/17464789\u001b[0m \u001b[32m━━━━━━━━━━━━━━━━━━━━\u001b[0m\u001b[37m\u001b[0m \u001b[1m1s\u001b[0m 0us/step\n",
            "[1, 14, 22, 16, 43, 530, 973, 1622, 1385, 65, 458, 4468, 66, 3941, 4, 173, 36, 256, 5, 25, 100, 43, 838, 112, 50, 670, 2, 9, 35, 480, 284, 5, 150, 4, 172, 112, 167, 2, 336, 385, 39, 4, 172, 4536, 1111, 17, 546, 38, 13, 447, 4, 192, 50, 16, 6, 147, 2025, 19, 14, 22, 4, 1920, 4613, 469, 4, 22, 71, 87, 12, 16, 43, 530, 38, 76, 15, 13, 1247, 4, 22, 17, 515, 17, 12, 16, 626, 18, 2, 5, 62, 386, 12, 8, 316, 8, 106, 5, 4, 2223, 5244, 16, 480, 66, 3785, 33, 4, 130, 12, 16, 38, 619, 5, 25, 124, 51, 36, 135, 48, 25, 1415, 33, 6, 22, 12, 215, 28, 77, 52, 5, 14, 407, 16, 82, 2, 8, 4, 107, 117, 5952, 15, 256, 4, 2, 7, 3766, 5, 723, 36, 71, 43, 530, 476, 26, 400, 317, 46, 7, 4, 2, 1029, 13, 104, 88, 4, 381, 15, 297, 98, 32, 2071, 56, 26, 141, 6, 194, 7486, 18, 4, 226, 22, 21, 134, 476, 26, 480, 5, 144, 30, 5535, 18, 51, 36, 28, 224, 92, 25, 104, 4, 226, 65, 16, 38, 1334, 88, 12, 16, 283, 5, 16, 4472, 113, 103, 32, 15, 16, 5345, 19, 178, 32]\n"
          ]
        }
      ],
      "source": [
        "from tensorflow.keras.datasets import imdb\n",
        "num_words = 10000\n",
        "(train_data, train_labels), (test_data, test_labels) = imdb.load_data(num_words=num_words)\n",
        "print(train_data[0])"
      ]
    },
    {
      "cell_type": "code",
      "execution_count": 5,
      "metadata": {
        "colab": {
          "base_uri": "https://localhost:8080/"
        },
        "id": "3-qGeCVswdwI",
        "outputId": "0728fa6d-7b36-43d0-f792-052ed6bd173a"
      },
      "outputs": [
        {
          "output_type": "stream",
          "name": "stdout",
          "text": [
            "Downloading data from https://storage.googleapis.com/tensorflow/tf-keras-datasets/imdb_word_index.json\n",
            "\u001b[1m1641221/1641221\u001b[0m \u001b[32m━━━━━━━━━━━━━━━━━━━━\u001b[0m\u001b[37m\u001b[0m \u001b[1m1s\u001b[0m 0us/step\n"
          ]
        }
      ],
      "source": [
        "# Transform word_id to word and reverse\n",
        "word2int = imdb.get_word_index()\n",
        "word2int = {w: i+3 for w, i in word2int.items()}\n",
        "word2int[\"<PAD>\"] = 0\n",
        "word2int[\"<START>\"] = 1\n",
        "word2int[\"<UNK>\"] = 2\n",
        "word2int[\"<UNUSED>\"] = 3\n",
        "int2word = {i: w for w, i in word2int.items()}\n",
        "num_words = num_words+3"
      ]
    },
    {
      "cell_type": "markdown",
      "metadata": {
        "id": "PbnopbcnwdwJ"
      },
      "source": [
        "For transforming an id-sequence to a phrase use get_words"
      ]
    },
    {
      "cell_type": "code",
      "execution_count": 6,
      "metadata": {
        "colab": {
          "base_uri": "https://localhost:8080/",
          "height": 174
        },
        "id": "riBeJ1SswdwJ",
        "outputId": "a3daff70-2089-448e-fc54-f074cb592f6d"
      },
      "outputs": [
        {
          "output_type": "execute_result",
          "data": {
            "text/plain": [
              "\"<START> this film was just brilliant casting location scenery story direction everyone's really suited the part they played and you could just imagine being there robert <UNK> is an amazing actor and now the same being director <UNK> father came from the same scottish island as myself so i loved the fact there was a real connection with this film the witty remarks throughout the film were great it was just brilliant so much that i bought the film as soon as it was released for <UNK> and would recommend it to everyone to watch and the fly fishing was amazing really cried at the end it was so sad and you know what they say if you cry at a film it must have been good and this definitely was also <UNK> to the two little boy's that played the <UNK> of norman and paul they were just brilliant children are often left out of the <UNK> list i think because the stars that play them all grown up are such a big profile for the whole film but these children are amazing and should be praised for what they have done don't you think the whole story was so lovely because it was true and was someone's life after all that was shared with us all\""
            ],
            "application/vnd.google.colaboratory.intrinsic+json": {
              "type": "string"
            }
          },
          "metadata": {},
          "execution_count": 6
        }
      ],
      "source": [
        "def get_words(sentence, int2word):\n",
        "    return ' '.join([int2word.get(i, '<UNK>') for i in sentence])\n",
        "\n",
        "\n",
        "get_words(train_data[0], int2word)"
      ]
    },
    {
      "cell_type": "markdown",
      "metadata": {
        "id": "WhjWmhABwdwJ"
      },
      "source": [
        "# MLP model\n",
        "\n",
        "## Data Preprocessing\n",
        "\n",
        "You need to convert your raw text to an appropriate input to a sequential model"
      ]
    },
    {
      "cell_type": "code",
      "execution_count": 7,
      "metadata": {
        "colab": {
          "base_uri": "https://localhost:8080/"
        },
        "id": "70YXTBqCwdwJ",
        "outputId": "01f915d6-dfa6-4c8f-8bb1-387b51abfb4d"
      },
      "outputs": [
        {
          "output_type": "stream",
          "name": "stdout",
          "text": [
            "<START> this film was just brilliant casting location scenery story direction everyone's really suited the part they played and you could just imagine being there robert <UNK> is an amazing actor and now the same being director <UNK> father came from the same scottish island as myself so i loved the fact there was a real connection with this film the witty remarks throughout the film were great it was just brilliant so much that i bought the film as soon as it was released for <UNK> and would recommend it to everyone to watch and the fly fishing was amazing really cried at the end it was so sad and you know what they say if you cry at a film it must have been good and this definitely was also <UNK> to the two little boy's that played the <UNK> of norman and paul they were just brilliant children are often left out of the <UNK> list i think because the stars that play them all grown up are such a big profile for the whole film but these children are amazing and should be praised for what they have done don't you think the whole story was so lovely because it was true and was someone's life after all that was shared with us all\n",
            "[1, 14, 22, 16, 43, 530, 973, 1622, 1385, 65, 458, 4468, 66, 3941, 4, 173, 36, 256, 5, 25, 100, 43, 838, 112, 50, 670, 2, 9, 35, 480, 284, 5, 150, 4, 172, 112, 167, 2, 336, 385, 39, 4, 172, 4536, 1111, 17, 546, 38, 13, 447, 4, 192, 50, 16, 6, 147, 2025, 19, 14, 22, 4, 1920, 4613, 469, 4, 22, 71, 87, 12, 16, 43, 530, 38, 76, 15, 13, 1247, 4, 22, 17, 515, 17, 12, 16, 626, 18, 2, 5, 62, 386, 12, 8, 316, 8, 106, 5, 4, 2223, 5244, 16, 480, 66, 3785, 33, 4, 130, 12, 16, 38, 619, 5, 25, 124, 51, 36, 135, 48, 25, 1415, 33, 6, 22, 12, 215, 28, 77, 52, 5, 14, 407, 16, 82, 2, 8, 4, 107, 117, 5952, 15, 256, 4, 2, 7, 3766, 5, 723, 36, 71, 43, 530, 476, 26, 400, 317, 46, 7, 4, 2, 1029, 13, 104, 88, 4, 381, 15, 297, 98, 32, 2071, 56, 26, 141, 6, 194, 7486, 18, 4, 226, 22, 21, 134, 476, 26, 480, 5, 144, 30, 5535, 18, 51, 36, 28, 224, 92, 25, 104, 4, 226, 65, 16, 38, 1334, 88, 12, 16, 283, 5, 16, 4472, 113, 103, 32, 15, 16, 5345, 19, 178, 32]\n"
          ]
        }
      ],
      "source": [
        "def vectorize_text_sentence(text, word2int):\n",
        "    tokens = text.split(' ')\n",
        "    tokens_id = [word2int.get(tk,2) for tk in tokens]\n",
        "    return tokens_id\n",
        "\n",
        "text = get_words(train_data[0], int2word)\n",
        "print(text)\n",
        "print(vectorize_text_sentence(text, word2int))"
      ]
    },
    {
      "cell_type": "markdown",
      "metadata": {
        "id": "EgVdVIufwdwJ"
      },
      "source": [
        "We are going to use a bag of words model. BoW is a simplifying representation used in natural language processing. In this model, a text (such as a sentence or a document) is represented as the Each key is the word, and each value is the frequency of occurrences of that word in the given text document.\n",
        "\n",
        "- **Input document**: `\"John likes to watch movies Mary likes movies too\"`\n",
        "- **BoW**: `{'John': 0.11, 'likes': 0.22, 'to': 0.11, 'watch': 0.11, 'movies': 0.22, 'Mary': 0.11, 'too': 0.11}`\n"
      ]
    },
    {
      "cell_type": "code",
      "execution_count": 8,
      "metadata": {
        "colab": {
          "base_uri": "https://localhost:8080/"
        },
        "id": "cx5yUZxuwdwJ",
        "outputId": "a797be24-c7b5-4e36-cf59-190ffab3eef7"
      },
      "outputs": [
        {
          "output_type": "stream",
          "name": "stdout",
          "text": [
            "text_example John likes to watch movies Mary likes movies too\n",
            "text splitted ['John', 'likes', 'to', 'watch', 'movies', 'Mary', 'likes', 'movies', 'too']\n",
            "bag_of_words {'John': 0.1111111111111111, 'likes': 0.2222222222222222, 'to': 0.1111111111111111, 'watch': 0.1111111111111111, 'movies': 0.2222222222222222, 'Mary': 0.1111111111111111, 'too': 0.1111111111111111}\n",
            "bag_of_words norm=False {'John': 1, 'likes': 2, 'to': 1, 'watch': 1, 'movies': 2, 'Mary': 1, 'too': 1}\n",
            "bag_of_words with indexes {308: 1, 1232: 2, 8: 1, 106: 1, 102: 2, 1083: 1, 99: 1}\n"
          ]
        }
      ],
      "source": [
        "from collections import Counter\n",
        "\n",
        "\n",
        "def get_bag_of_words(sequence, norm=True):\n",
        "    word_count = Counter(sequence)\n",
        "    if norm:\n",
        "        total = sum(word_count.values())\n",
        "        word_freq = {w: n / total for w, n in word_count.items()}\n",
        "        return word_freq\n",
        "    else:\n",
        "        return dict(word_count.items())\n",
        "\n",
        "\n",
        "text_example = \"John likes to watch movies Mary likes movies too\"\n",
        "print('text_example', text_example)\n",
        "text_sequence = text_example.split()\n",
        "print('text splitted', text_sequence)\n",
        "bag_of_words = get_bag_of_words(text_sequence)\n",
        "print('bag_of_words', bag_of_words)\n",
        "print('bag_of_words norm=False', get_bag_of_words(text_sequence, norm=False))\n",
        "print(\n",
        "    'bag_of_words with indexes', {\n",
        "        word2int[w.lower()]: p\n",
        "        for w, p in get_bag_of_words(text_sequence, norm=False).items()\n",
        "    })"
      ]
    },
    {
      "cell_type": "markdown",
      "metadata": {
        "id": "9AXe1MUKwdwJ"
      },
      "source": [
        "After that, we convert every BoW to a vector of `dim=num_words` with `vectorize_sequences`"
      ]
    },
    {
      "cell_type": "code",
      "execution_count": 9,
      "metadata": {
        "colab": {
          "base_uri": "https://localhost:8080/"
        },
        "id": "F3tXp8_dwdwK",
        "outputId": "cd850f9a-c611-48c2-b686-b6ae27f4eb89"
      },
      "outputs": [
        {
          "output_type": "execute_result",
          "data": {
            "text/plain": [
              "((25000, 10003), (25000,))"
            ]
          },
          "metadata": {},
          "execution_count": 9
        }
      ],
      "source": [
        "def vectorize_sequence(sequence, num_words, norm=True):\n",
        "    vec = np.zeros(num_words)\n",
        "    bow = get_bag_of_words(sequence, norm)\n",
        "    for w, freq in bow.items():\n",
        "        if w < num_words:\n",
        "            vec[w] = freq\n",
        "    return vec\n",
        "\n",
        "\n",
        "def vectorize_sequences(sequences, num_words=num_words, norm=True):\n",
        "    \"\"\"Creates an all-zero matrix of shape (len(sequences), num_words)\"\"\"\n",
        "    results = np.zeros((len(sequences), num_words))\n",
        "    for i, sequence in enumerate(sequences):\n",
        "        results[i, :] = vectorize_sequence(sequence, num_words, norm)\n",
        "    return results\n",
        "\n",
        "\n",
        "x_train = vectorize_sequences(train_data, num_words=num_words)\n",
        "x_test = vectorize_sequences(test_data, num_words=num_words)\n",
        "y_train =np.asarray(train_labels).astype('float32')\n",
        "y_test = np.asarray(test_labels).astype('float32')\n",
        "x_train.shape, y_train.shape"
      ]
    },
    {
      "cell_type": "code",
      "execution_count": 9,
      "metadata": {
        "id": "7ElQoLg4wdwK"
      },
      "outputs": [],
      "source": []
    },
    {
      "cell_type": "markdown",
      "metadata": {
        "id": "95lJSLi-wdwK"
      },
      "source": [
        "## Define and train a model\n",
        "Define, compile and fit your sequential model"
      ]
    },
    {
      "cell_type": "code",
      "execution_count": 10,
      "metadata": {
        "colab": {
          "base_uri": "https://localhost:8080/",
          "height": 106
        },
        "id": "d_NQRxGRwdwK",
        "outputId": "8b4cd1f8-c254-422a-c00b-5f6e580783b3"
      },
      "outputs": [
        {
          "output_type": "error",
          "ename": "SyntaxError",
          "evalue": "positional argument follows keyword argument (ipython-input-724713935.py, line 2)",
          "traceback": [
            "\u001b[0;36m  File \u001b[0;32m\"/tmp/ipython-input-724713935.py\"\u001b[0;36m, line \u001b[0;32m2\u001b[0m\n\u001b[0;31m    history = model.fit(x_train, y_train, validation_split=0.2, ...)\u001b[0m\n\u001b[0m                                                                   ^\u001b[0m\n\u001b[0;31mSyntaxError\u001b[0m\u001b[0;31m:\u001b[0m positional argument follows keyword argument\n"
          ]
        }
      ],
      "source": [
        "model = ...\n",
        "history = model.fit(x_train, y_train, validation_split=0.2, ...)"
      ]
    },
    {
      "cell_type": "code",
      "execution_count": null,
      "metadata": {
        "id": "lBmsQNOxwdwK"
      },
      "outputs": [],
      "source": [
        "show_loss_accuracy_evolution(history)"
      ]
    },
    {
      "cell_type": "markdown",
      "metadata": {
        "id": "S_QLGDJvwdwK"
      },
      "source": [
        "### Evaluate the model\n",
        "You need to obtain a Test Accuracy > 0.85. Try to get more than 0.9!"
      ]
    },
    {
      "cell_type": "code",
      "execution_count": null,
      "metadata": {
        "id": "SQk1c_1UwdwK"
      },
      "outputs": [],
      "source": [
        "results = model.evaluate(x_test, y_test, verbose=1)\n",
        "print('Test Loss: {}'.format(results[0]))\n",
        "print('Test Accuracy: {}'.format(results[1]))"
      ]
    },
    {
      "cell_type": "markdown",
      "metadata": {
        "id": "OpuJwmoowdwK"
      },
      "source": [
        "### Making predictioins with new data"
      ]
    },
    {
      "cell_type": "code",
      "execution_count": null,
      "metadata": {
        "id": "3Gn22H_OwdwK"
      },
      "outputs": [],
      "source": [
        "reviews = ['the film was really bad and i am very disappointed',\n",
        "           'The film was very funny entertaining and good we had a great time . brilliant film',\n",
        "           'this film was just brilliant']\n",
        "sequences = [vectorize_text_sentence(review.lower(), word2int)\n",
        "             for review in reviews]\n",
        "\n",
        "x_pred = vectorize_sequences(sequences, num_words=num_words)\n",
        "np.round(model.predict(x_pred), 4)"
      ]
    },
    {
      "cell_type": "markdown",
      "metadata": {
        "id": "RycIcEGRwdwK"
      },
      "source": [
        "# RNN model\n",
        "\n",
        "Lets use a recurrent neural network and compare results\n"
      ]
    },
    {
      "cell_type": "markdown",
      "metadata": {
        "id": "O5VJNI1rwdwK"
      },
      "source": [
        "### Simple RNN model\n",
        "\n",
        "There are three built-in RNN layers in Keras:\n",
        "\n",
        "1. [`keras.layers.SimpleRNN`](https://keras.io/api/layers/recurrent_layers/simple_rnn/), a fully-connected RNN where the output from previous\n",
        "timestep is to be fed to next timestep.\n",
        "\n",
        "```python\n",
        "tf.keras.layers.SimpleRNN(\n",
        "    units,\n",
        "    dropout=0.0,\n",
        "    recurrent_dropout=0.0,\n",
        "    return_sequences=False,\n",
        "    return_state=False,\n",
        "    go_backwards=False,\n",
        "    stateful=False,\n",
        ")\n",
        "````\n",
        "\n",
        "2. [`keras.layers.GRU`](https://keras.io/api/layers/recurrent_layers/gru/), first proposed in\n",
        "[Cho et al., 2014](https://arxiv.org/abs/1406.1078).\n",
        "```python\n",
        "tf.keras.layers.GRU(\n",
        "    units,\n",
        "    dropout=0.0,\n",
        "    recurrent_dropout=0.0,\n",
        "    return_sequences=False,\n",
        "    return_state=False,\n",
        "    go_backwards=False,\n",
        "    stateful=False,\n",
        ")\n",
        "```\n",
        "\n",
        "3. [`keras.layers.LSTM`](https://keras.io/api/layers/recurrent_layers/lstm/), first proposed in\n",
        "[Hochreiter & Schmidhuber, 1997](https://www.bioinf.jku.at/publications/older/2604.pdf).\n",
        "```python\n",
        "tf.keras.layers.LSTM(\n",
        "    units,\n",
        "    dropout=0.0,\n",
        "    recurrent_dropout=0.0,\n",
        "    return_sequences=False,\n",
        "    return_state=False,\n",
        "    go_backwards=False,\n",
        "    stateful=False,\n",
        ")\n",
        "````\n",
        "For more information, see the\n",
        "[RNN API documentation](https://keras.io/api/layers/recurrent_layers/).\n",
        "\n",
        "\n",
        "\n",
        "\n",
        "\n",
        "In sequence classification we are going to use the **many-to-one** architecture with default parameter `return_sequences=False`.\n",
        "\n",
        "The shape of the output  for this architecture  is `(batch_size, units)`.\n",
        "where `units` corresponds to the `units` argument passed to the layer's constructor.\n",
        "\n",
        "Lets see one some examples for understanding the input/output dimensions:"
      ]
    },
    {
      "cell_type": "code",
      "execution_count": 11,
      "metadata": {
        "colab": {
          "base_uri": "https://localhost:8080/"
        },
        "id": "lhGyoJWSwdwK",
        "outputId": "4144ed28-7f7f-4c76-b277-1fae8d945df4"
      },
      "outputs": [
        {
          "output_type": "stream",
          "name": "stdout",
          "text": [
            "input dim (batch, timesteps, feature):  (32, 10, 4)\n",
            "return_state=False output shape:  (32, 2)\n"
          ]
        }
      ],
      "source": [
        "# dims of input: [batch, timesteps, features]\n",
        "inputs = tf.random.normal([32, 10, 4])\n",
        "print('input dim (batch, timesteps, feature): ', inputs.shape)\n",
        "# return_sequences=False, return_state=False\n",
        "lstm = tf.keras.layers.LSTM(units= 2)\n",
        "output = lstm(inputs)\n",
        "print('return_state=False output shape: ',output.shape)"
      ]
    },
    {
      "cell_type": "markdown",
      "metadata": {
        "id": "ed_FdYJxwdwK"
      },
      "source": [
        "### Deep RNN\n",
        "We can stack multiple layers of RNNs on top of each other. Each hidden state is continuously passed to both the next time step of the current layer and the current time step of the next layer.\n",
        "\n",
        "For stack another RNN layer to an existing one, we need to use the states with `return_sequences=True`"
      ]
    },
    {
      "cell_type": "code",
      "execution_count": 12,
      "metadata": {
        "colab": {
          "base_uri": "https://localhost:8080/"
        },
        "id": "3PP-8fvBwdwK",
        "outputId": "a4e6d221-b37e-46a3-c3b5-655c713ac961"
      },
      "outputs": [
        {
          "output_type": "stream",
          "name": "stdout",
          "text": [
            "(32, 64)\n"
          ]
        }
      ],
      "source": [
        "## We can modify the input vector before the rnn cell with TimeDistributed\n",
        "timesteps = 10\n",
        "features = 8 # dimension of the innput of every cell\n",
        "\n",
        "#Shape [batch, timesteps, features]\n",
        "inputs = tf.keras.Input(shape=(timesteps, features), name='input')\n",
        "lstm_1 = layers.LSTM(64, return_sequences=True, name='lstm_1')(inputs)\n",
        "lstm_2 = layers.LSTM(64, return_sequences=True, name='lstm_2')(lstm_1)\n",
        "# last lstm layer depends in [one to many or  many to many]\n",
        "lstm_3 = layers.LSTM(64, return_sequences=False, name='lstm_3')(lstm_2)\n",
        "model = keras.Model(inputs=inputs, outputs=lstm_3, name='rnn_example')\n",
        "#print(model.summary())\n",
        "inputs = tf.random.normal([32, timesteps, features])\n",
        "print(model(inputs).shape)"
      ]
    },
    {
      "cell_type": "markdown",
      "metadata": {
        "id": "Sf47MIqYwdwK"
      },
      "source": [
        "### Bidirectional RNNs\n",
        "\n",
        "For sequences other than time series (e.g. text), it is often the case that a RNN model\n",
        "can perform better if it not only processes sequence from start to end, but also\n",
        "backwards. For example, to predict the next word in a sentence, it is often useful to\n",
        "have the context around the word, not only just the words that come before it.\n",
        "\n",
        "Keras provides an easy API for you to build such bidirectional RNNs: the\n",
        "`keras.layers.Bidirectional` wrapper.\n",
        "\n",
        "[link to documentation](https://www.tensorflow.org/api_docs/python/tf/keras/layers/Bidirectional)"
      ]
    },
    {
      "cell_type": "code",
      "execution_count": 13,
      "metadata": {
        "colab": {
          "base_uri": "https://localhost:8080/",
          "height": 293
        },
        "id": "9XaerIemwdwK",
        "outputId": "897da17e-5d37-410e-a943-7188674a7a33"
      },
      "outputs": [
        {
          "output_type": "stream",
          "name": "stderr",
          "text": [
            "/usr/local/lib/python3.12/dist-packages/keras/src/layers/rnn/bidirectional.py:107: UserWarning: Do not pass an `input_shape`/`input_dim` argument to a layer. When using Sequential models, prefer using an `Input(shape)` object as the first layer in the model instead.\n",
            "  super().__init__(**kwargs)\n"
          ]
        },
        {
          "output_type": "display_data",
          "data": {
            "text/plain": [
              "\u001b[1mModel: \"sequential\"\u001b[0m\n"
            ],
            "text/html": [
              "<pre style=\"white-space:pre;overflow-x:auto;line-height:normal;font-family:Menlo,'DejaVu Sans Mono',consolas,'Courier New',monospace\"><span style=\"font-weight: bold\">Model: \"sequential\"</span>\n",
              "</pre>\n"
            ]
          },
          "metadata": {}
        },
        {
          "output_type": "display_data",
          "data": {
            "text/plain": [
              "┏━━━━━━━━━━━━━━━━━━━━━━━━━━━━━━━━━┳━━━━━━━━━━━━━━━━━━━━━━━━┳━━━━━━━━━━━━━━━┓\n",
              "┃\u001b[1m \u001b[0m\u001b[1mLayer (type)                   \u001b[0m\u001b[1m \u001b[0m┃\u001b[1m \u001b[0m\u001b[1mOutput Shape          \u001b[0m\u001b[1m \u001b[0m┃\u001b[1m \u001b[0m\u001b[1m      Param #\u001b[0m\u001b[1m \u001b[0m┃\n",
              "┡━━━━━━━━━━━━━━━━━━━━━━━━━━━━━━━━━╇━━━━━━━━━━━━━━━━━━━━━━━━╇━━━━━━━━━━━━━━━┩\n",
              "│ bidirectional (\u001b[38;5;33mBidirectional\u001b[0m)   │ (\u001b[38;5;45mNone\u001b[0m, \u001b[38;5;34m10\u001b[0m, \u001b[38;5;34m128\u001b[0m)        │        \u001b[38;5;34m37,376\u001b[0m │\n",
              "├─────────────────────────────────┼────────────────────────┼───────────────┤\n",
              "│ bidirectional_1 (\u001b[38;5;33mBidirectional\u001b[0m) │ (\u001b[38;5;45mNone\u001b[0m, \u001b[38;5;34m64\u001b[0m)             │        \u001b[38;5;34m41,216\u001b[0m │\n",
              "├─────────────────────────────────┼────────────────────────┼───────────────┤\n",
              "│ dense (\u001b[38;5;33mDense\u001b[0m)                   │ (\u001b[38;5;45mNone\u001b[0m, \u001b[38;5;34m10\u001b[0m)             │           \u001b[38;5;34m650\u001b[0m │\n",
              "└─────────────────────────────────┴────────────────────────┴───────────────┘\n"
            ],
            "text/html": [
              "<pre style=\"white-space:pre;overflow-x:auto;line-height:normal;font-family:Menlo,'DejaVu Sans Mono',consolas,'Courier New',monospace\">┏━━━━━━━━━━━━━━━━━━━━━━━━━━━━━━━━━┳━━━━━━━━━━━━━━━━━━━━━━━━┳━━━━━━━━━━━━━━━┓\n",
              "┃<span style=\"font-weight: bold\"> Layer (type)                    </span>┃<span style=\"font-weight: bold\"> Output Shape           </span>┃<span style=\"font-weight: bold\">       Param # </span>┃\n",
              "┡━━━━━━━━━━━━━━━━━━━━━━━━━━━━━━━━━╇━━━━━━━━━━━━━━━━━━━━━━━━╇━━━━━━━━━━━━━━━┩\n",
              "│ bidirectional (<span style=\"color: #0087ff; text-decoration-color: #0087ff\">Bidirectional</span>)   │ (<span style=\"color: #00d7ff; text-decoration-color: #00d7ff\">None</span>, <span style=\"color: #00af00; text-decoration-color: #00af00\">10</span>, <span style=\"color: #00af00; text-decoration-color: #00af00\">128</span>)        │        <span style=\"color: #00af00; text-decoration-color: #00af00\">37,376</span> │\n",
              "├─────────────────────────────────┼────────────────────────┼───────────────┤\n",
              "│ bidirectional_1 (<span style=\"color: #0087ff; text-decoration-color: #0087ff\">Bidirectional</span>) │ (<span style=\"color: #00d7ff; text-decoration-color: #00d7ff\">None</span>, <span style=\"color: #00af00; text-decoration-color: #00af00\">64</span>)             │        <span style=\"color: #00af00; text-decoration-color: #00af00\">41,216</span> │\n",
              "├─────────────────────────────────┼────────────────────────┼───────────────┤\n",
              "│ dense (<span style=\"color: #0087ff; text-decoration-color: #0087ff\">Dense</span>)                   │ (<span style=\"color: #00d7ff; text-decoration-color: #00d7ff\">None</span>, <span style=\"color: #00af00; text-decoration-color: #00af00\">10</span>)             │           <span style=\"color: #00af00; text-decoration-color: #00af00\">650</span> │\n",
              "└─────────────────────────────────┴────────────────────────┴───────────────┘\n",
              "</pre>\n"
            ]
          },
          "metadata": {}
        },
        {
          "output_type": "display_data",
          "data": {
            "text/plain": [
              "\u001b[1m Total params: \u001b[0m\u001b[38;5;34m79,242\u001b[0m (309.54 KB)\n"
            ],
            "text/html": [
              "<pre style=\"white-space:pre;overflow-x:auto;line-height:normal;font-family:Menlo,'DejaVu Sans Mono',consolas,'Courier New',monospace\"><span style=\"font-weight: bold\"> Total params: </span><span style=\"color: #00af00; text-decoration-color: #00af00\">79,242</span> (309.54 KB)\n",
              "</pre>\n"
            ]
          },
          "metadata": {}
        },
        {
          "output_type": "display_data",
          "data": {
            "text/plain": [
              "\u001b[1m Trainable params: \u001b[0m\u001b[38;5;34m79,242\u001b[0m (309.54 KB)\n"
            ],
            "text/html": [
              "<pre style=\"white-space:pre;overflow-x:auto;line-height:normal;font-family:Menlo,'DejaVu Sans Mono',consolas,'Courier New',monospace\"><span style=\"font-weight: bold\"> Trainable params: </span><span style=\"color: #00af00; text-decoration-color: #00af00\">79,242</span> (309.54 KB)\n",
              "</pre>\n"
            ]
          },
          "metadata": {}
        },
        {
          "output_type": "display_data",
          "data": {
            "text/plain": [
              "\u001b[1m Non-trainable params: \u001b[0m\u001b[38;5;34m0\u001b[0m (0.00 B)\n"
            ],
            "text/html": [
              "<pre style=\"white-space:pre;overflow-x:auto;line-height:normal;font-family:Menlo,'DejaVu Sans Mono',consolas,'Courier New',monospace\"><span style=\"font-weight: bold\"> Non-trainable params: </span><span style=\"color: #00af00; text-decoration-color: #00af00\">0</span> (0.00 B)\n",
              "</pre>\n"
            ]
          },
          "metadata": {}
        }
      ],
      "source": [
        "model = keras.Sequential()\n",
        "\n",
        "# If you crete a second layer you must set return_sequences=True\n",
        "model.add(\n",
        "    layers.Bidirectional(layers.LSTM(64, return_sequences=True), input_shape=(timesteps, features))\n",
        ")\n",
        "# Second Bidirectional layer\n",
        "model.add(layers.Bidirectional(layers.LSTM(32)))\n",
        "# Output\n",
        "model.add(layers.Dense(10))\n",
        "\n",
        "model.summary()"
      ]
    },
    {
      "cell_type": "markdown",
      "metadata": {
        "id": "sdNhfxBhwdwK"
      },
      "source": [
        "### Loading Data"
      ]
    },
    {
      "cell_type": "code",
      "execution_count": 14,
      "metadata": {
        "colab": {
          "base_uri": "https://localhost:8080/"
        },
        "id": "b4qiCjJawdwK",
        "outputId": "60f2d208-1546-4dc4-9b88-d729a4fa8370"
      },
      "outputs": [
        {
          "output_type": "stream",
          "name": "stdout",
          "text": [
            "(25000,) (25000,)\n"
          ]
        }
      ],
      "source": [
        "from tensorflow.keras.datasets import imdb\n",
        "num_words = 2000\n",
        "((train_data, train_labels), (test_data, test_labels)\n",
        " ) = imdb.load_data(num_words=num_words)\n",
        "\n",
        "#  limit the data for class time\n",
        "'''size = 15000\n",
        "(train_data, train_labels), (test_data, test_labels) = (\n",
        "    (train_data[:size], train_labels[:size]), (test_data[:size], test_labels[:size]))\n",
        "'''\n",
        "# Transform word_id to word and reverse\n",
        "word2int = imdb.get_word_index()\n",
        "word2int = {w: i+3 for w, i in word2int.items()}\n",
        "word2int[\"<PAD>\"] = 0\n",
        "word2int[\"<START>\"] = 1\n",
        "word2int[\"<UNK>\"] = 2\n",
        "word2int[\"<UNUSED>\"] = 3\n",
        "int2word = {i: w for w, i in word2int.items()}\n",
        "num_words = num_words+3\n",
        "\n",
        "print(train_data.shape, test_data.shape)"
      ]
    },
    {
      "cell_type": "markdown",
      "metadata": {
        "id": "7Q2kCNMQwdwL"
      },
      "source": [
        "#### Data Preprocessing\n",
        "\n",
        "For data preprocessing we first use [pad_sequences](https://www.tensorflow.org/api_docs/python/tf/keras/preprocessing/sequence/pad_sequences):\n",
        "```python\n",
        "tf.keras.preprocessing.sequence.pad_sequences(\n",
        "    sequences, maxlen=None, dtype='int32', padding='pre',\n",
        "    truncating='pre', value=0.0\n",
        ")\n",
        "```\n",
        "- **padding**:\t'pre' or 'post' (optional, defaults to 'pre'): pad either before or after each sequence.\n",
        "- **truncating**:\tString, 'pre' or 'post' (optional, defaults to 'pre'): remove values from sequences larger than maxlen, either at the beginning or at the end of the sequences.\n",
        "\n",
        "\n",
        "Our RNN will take sequences of constant length. In our case this length is the `maxlen`"
      ]
    },
    {
      "cell_type": "code",
      "execution_count": 15,
      "metadata": {
        "colab": {
          "base_uri": "https://localhost:8080/"
        },
        "id": "Y86uqzSHwdwL",
        "outputId": "4e2f980e-87cc-44ce-a415-8bcedd1789c3"
      },
      "outputs": [
        {
          "output_type": "stream",
          "name": "stdout",
          "text": [
            "input sequence:  [1, 2, 3]\n",
            "input sequence with padding:  [[0 0 1 2 3]]\n",
            "input sequence:  [1, 2, 3, 4, 5, 6, 7, 8, 9]\n",
            "input sequence with padding:  [[5 6 7 8 9]]\n"
          ]
        }
      ],
      "source": [
        "from tensorflow.keras.preprocessing import sequence\n",
        "input_seq = [1, 2, 3]\n",
        "max_len = 5\n",
        "print('input sequence: ', input_seq)\n",
        "pad_seq = sequence.pad_sequences([input_seq], maxlen=max_len)\n",
        "print('input sequence with padding: ', pad_seq)\n",
        "\n",
        "input_seq = [1, 2, 3, 4, 5, 6, 7, 8, 9]\n",
        "max_len = 5\n",
        "print('input sequence: ', input_seq)\n",
        "pad_seq = sequence.pad_sequences([input_seq], maxlen=max_len)\n",
        "print('input sequence with padding: ', pad_seq)\n"
      ]
    },
    {
      "cell_type": "code",
      "execution_count": 16,
      "metadata": {
        "colab": {
          "base_uri": "https://localhost:8080/"
        },
        "id": "eXV0H-dNwdwL",
        "outputId": "7c9a2962-9dc5-40e6-8653-2b04a8781b9b"
      },
      "outputs": [
        {
          "output_type": "stream",
          "name": "stdout",
          "text": [
            "input sequence:  [1, 2, 3]\n",
            "input sequence with padding:  [[1 2 3 0 0]]\n",
            "input sequence:  [1, 2, 3, 4, 5, 6, 7, 8, 9]\n",
            "input sequence with padding:  [[1 2 3 4 5]]\n"
          ]
        }
      ],
      "source": [
        "input_seq = [1, 2, 3]\n",
        "max_len = 5\n",
        "print('input sequence: ', input_seq)\n",
        "pad_seq = sequence.pad_sequences([input_seq], maxlen=max_len, padding='post')\n",
        "print('input sequence with padding: ', pad_seq)\n",
        "\n",
        "input_seq = [1, 2, 3, 4, 5, 6, 7, 8, 9]\n",
        "max_len = 5\n",
        "print('input sequence: ', input_seq)\n",
        "pad_seq = sequence.pad_sequences([input_seq], maxlen=max_len, truncating='post')\n",
        "print('input sequence with padding: ', pad_seq)\n"
      ]
    },
    {
      "cell_type": "code",
      "execution_count": 17,
      "metadata": {
        "colab": {
          "base_uri": "https://localhost:8080/"
        },
        "id": "nl6RwFnFwdwL",
        "outputId": "ce200d6b-ed50-4809-99b0-e863c7f2ac97"
      },
      "outputs": [
        {
          "output_type": "stream",
          "name": "stdout",
          "text": [
            "train shape: (25000, 100)\n",
            "test shape: (25000, 100)\n"
          ]
        }
      ],
      "source": [
        "max_len = 100\n",
        "x_train_seq = sequence.pad_sequences(train_data, maxlen=max_len, truncating='post', padding='post')\n",
        "x_test_seq = sequence.pad_sequences(test_data, maxlen=max_len, truncating='post', padding='post')\n",
        "\n",
        "print('train shape:', x_train_seq.shape)\n",
        "print('test shape:', x_test_seq.shape)"
      ]
    },
    {
      "cell_type": "markdown",
      "metadata": {
        "id": "jR9Lg3MJwdwL"
      },
      "source": [
        "### Create the RNN model\n",
        "\n",
        "For the input of the first rnn layer we need a tensor of `(timesteps, features)` or `(batchsize, timesteps, features)`. We have a matrix of sentences of `(train_size, max_len)`. Every sentence is a  `max_len`, we need to convert it to a sentence of one-hot vectors of dim `(max_len, num_words)`.\n",
        "For get the one-hot encoding of every sequence we are going to use:\n",
        "\n",
        "```python\n",
        "layers.Embedding(input_dim=num_words, output_dim=num_words,\n",
        "  input_length=max_len, embeddings_initializer='identity', trainable=False)\n",
        "```\n",
        "\n",
        "This layer converts the input tensor `(batch_size, max_len)` to one-hot encoded sequences `(batch_size, max_len, num_words)`\n",
        "\n",
        "\n",
        "\n"
      ]
    },
    {
      "cell_type": "code",
      "execution_count": 18,
      "metadata": {
        "scrolled": true,
        "colab": {
          "base_uri": "https://localhost:8080/"
        },
        "id": "lbywO3UMwdwL",
        "outputId": "93ed2f60-369f-40b0-caf2-1b4c7808a884"
      },
      "outputs": [
        {
          "output_type": "stream",
          "name": "stdout",
          "text": [
            "[[[0 1 2 2 0]]] (1, 1, 5)\n"
          ]
        },
        {
          "output_type": "stream",
          "name": "stderr",
          "text": [
            "/usr/local/lib/python3.12/dist-packages/keras/src/layers/core/embedding.py:97: UserWarning: Argument `input_length` is deprecated. Just remove it.\n",
            "  warnings.warn(\n"
          ]
        },
        {
          "output_type": "execute_result",
          "data": {
            "text/plain": [
              "<tf.Tensor: shape=(1, 1, 5, 3), dtype=float32, numpy=\n",
              "array([[[[1., 0., 0.],\n",
              "         [0., 1., 0.],\n",
              "         [0., 0., 1.],\n",
              "         [0., 0., 1.],\n",
              "         [1., 0., 0.]]]], dtype=float32)>"
            ]
          },
          "metadata": {},
          "execution_count": 18
        }
      ],
      "source": [
        "seq = np.array([[[0, 1, 2, 2, 0]]])\n",
        "print(seq, seq.shape)\n",
        "layers.Embedding(input_dim=3, output_dim=3,\n",
        "                 input_length=5, embeddings_initializer='identity',\n",
        "                 trainable=False)(seq)"
      ]
    },
    {
      "cell_type": "markdown",
      "metadata": {
        "id": "-0GQUkn1wdwL"
      },
      "source": [
        "### RNN model\n",
        "Use `keras.layers.SimpleRNN`,  `keras.layers.GRU`,  `keras.layers.LSTM` or `keras.layers.Bidirectional`\n"
      ]
    },
    {
      "cell_type": "code",
      "execution_count": 19,
      "metadata": {
        "id": "4SVygFOOwdwL"
      },
      "outputs": [],
      "source": [
        "model = tf.keras.models.Sequential()\n",
        "model.add(tf.keras.Input(shape=(max_len,), name='input'))\n",
        "## one-hot encoding\n",
        "model.add(layers.Embedding(input_dim=num_words, output_dim=num_words,\n",
        "                           input_length=max_len, embeddings_initializer='identity',\n",
        "                           trainable=False))\n",
        "## complete the model with recurrent layers\n",
        "#model.add(...)\n",
        "model.add(layers.SimpleRNN(16, return_sequences=False))\n",
        "## add binary classification output\n",
        "model.add(layers.Dense(1, activation='sigmoid'))"
      ]
    },
    {
      "cell_type": "code",
      "execution_count": 20,
      "metadata": {
        "colab": {
          "base_uri": "https://localhost:8080/"
        },
        "id": "nkXUAdM5wdwO",
        "outputId": "51341104-774d-4eeb-bdaa-a8fc95ecd68c"
      },
      "outputs": [
        {
          "output_type": "stream",
          "name": "stdout",
          "text": [
            "Epoch 1/5\n",
            "\u001b[1m88/88\u001b[0m \u001b[32m━━━━━━━━━━━━━━━━━━━━\u001b[0m\u001b[37m\u001b[0m \u001b[1m55s\u001b[0m 609ms/step - accuracy: 0.5684 - loss: 0.6709 - val_accuracy: 0.7512 - val_loss: 0.5451\n",
            "Epoch 2/5\n",
            "\u001b[1m88/88\u001b[0m \u001b[32m━━━━━━━━━━━━━━━━━━━━\u001b[0m\u001b[37m\u001b[0m \u001b[1m53s\u001b[0m 609ms/step - accuracy: 0.7875 - loss: 0.4971 - val_accuracy: 0.7992 - val_loss: 0.4815\n",
            "Epoch 3/5\n",
            "\u001b[1m88/88\u001b[0m \u001b[32m━━━━━━━━━━━━━━━━━━━━\u001b[0m\u001b[37m\u001b[0m \u001b[1m82s\u001b[0m 604ms/step - accuracy: 0.8239 - loss: 0.4281 - val_accuracy: 0.8080 - val_loss: 0.4406\n",
            "Epoch 4/5\n",
            "\u001b[1m88/88\u001b[0m \u001b[32m━━━━━━━━━━━━━━━━━━━━\u001b[0m\u001b[37m\u001b[0m \u001b[1m84s\u001b[0m 624ms/step - accuracy: 0.8464 - loss: 0.3784 - val_accuracy: 0.8088 - val_loss: 0.4271\n",
            "Epoch 5/5\n",
            "\u001b[1m88/88\u001b[0m \u001b[32m━━━━━━━━━━━━━━━━━━━━\u001b[0m\u001b[37m\u001b[0m \u001b[1m52s\u001b[0m 586ms/step - accuracy: 0.8594 - loss: 0.3527 - val_accuracy: 0.8080 - val_loss: 0.4209\n"
          ]
        }
      ],
      "source": [
        "## set the loss and see the results\n",
        "# https://www.tensorflow.org/api_docs/python/tf/keras/losses\n",
        "model.compile(\n",
        "    optimizer='adam',\n",
        "    loss='binary_crossentropy',\n",
        "    metrics=['accuracy']\n",
        ")\n",
        "epochs = 5\n",
        "history = model.fit(x_train_seq, train_labels,\n",
        "                    validation_split=0.1, epochs=epochs,\n",
        "                    batch_size=256)\n"
      ]
    },
    {
      "cell_type": "code",
      "execution_count": 21,
      "metadata": {
        "colab": {
          "base_uri": "https://localhost:8080/",
          "height": 440
        },
        "id": "KtmBUvkUwdwO",
        "outputId": "2fbcc6f9-d262-4cfb-dc57-966b78df2d76"
      },
      "outputs": [
        {
          "output_type": "display_data",
          "data": {
            "text/plain": [
              "<Figure size 1600x600 with 2 Axes>"
            ],
            "image/png": "[encoded data removed]"
          },
          "metadata": {}
        },
        {
          "output_type": "stream",
          "name": "stdout",
          "text": [
            "\u001b[1m782/782\u001b[0m \u001b[32m━━━━━━━━━━━━━━━━━━━━\u001b[0m\u001b[37m\u001b[0m \u001b[1m25s\u001b[0m 32ms/step - accuracy: 0.7972 - loss: 0.4422\n",
            "Test Loss: 0.44493556022644043\n",
            "Test Accuracy: 0.7936400175094604\n"
          ]
        }
      ],
      "source": [
        "show_loss_accuracy_evolution(history)\n",
        "results = model.evaluate(x_test_seq, test_labels, verbose=1)\n",
        "print('Test Loss: {}'.format(results[0]))\n",
        "print('Test Accuracy: {}'.format(results[1]))"
      ]
    },
    {
      "cell_type": "code",
      "execution_count": 22,
      "metadata": {
        "colab": {
          "base_uri": "https://localhost:8080/"
        },
        "id": "G3Eh53j9wdwO",
        "outputId": "bdb75bf5-4094-4ed8-e17a-dd7e11ddefaf"
      },
      "outputs": [
        {
          "output_type": "stream",
          "name": "stdout",
          "text": [
            "\u001b[1m782/782\u001b[0m \u001b[32m━━━━━━━━━━━━━━━━━━━━\u001b[0m\u001b[37m\u001b[0m \u001b[1m26s\u001b[0m 33ms/step\n",
            "Predicted : 0, real : 1, lenght: 356\n",
            "<START> if <UNK> <UNK> was <UNK> he may well have been joe however all in the family would have had a rather short run because the <UNK> would never have allowed it to run along the lines of this movie joe is a working class guy who is a <UNK> and a <UNK> and has a big mouth especially when he's drunk one night he meets a man in a bar bill who is having a <UNK> to <UNK> his <UNK> <UNK> after <UNK> killing his <UNK> <UNK> boyfriend and he lets that <UNK> to joe what happens is that <UNK> daughter was living with the <UNK> and she's <UNK> off to the hospital after an <UNK> and he goes by the apartment to <UNK> her things but doesn't expect that <UNK> actually run into the boyfriend who comes in fresh from a big drug deal in the struggle that <UNK> the boyfriend is killed <UNK> and bill doesn't want anyone really to know of course but he lets it <UNK> to joe and then when the <UNK> and tv <UNK> come out joe sees them puts 2 and 2 together and suddenly this man is a hero in his eyes he <UNK> up with him later and bill is of course concerned that joe is going to <UNK> him but not for money he wants to <UNK> out with him which is in a way almost worse now <UNK> daughter <UNK> from the <UNK> she's in and <UNK> back home and <UNK> <UNK> what happened and then is on the run and most of the rest of the movie <UNK> of joe bill <UNK> the <UNK> to try to find her this <UNK> up to a rather shocking ending which to me was totally <UNK> and ends on just the right note or wrong note <UNK> on your point of view a sort of decent but <UNK> view of life in the early 70's mostly from a working class point of view which makes it not for everyone but it's not a bad film at all and it's a decent watch 8 out of 10\n",
            "\n",
            "Predicted : 1, real : 0, lenght: 542\n",
            "<START> <UNK> for death <UNK> <UNK> more time on action sequences than it does with <UNK> on its characters after his first two impressive <UNK> above the law <UNK> and hard to kill <UNK> this third <UNK> <UNK> picture makes the idea clear anyone who <UNK> him is meant to look like a <UNK> the bad guys are just there to make him look good br br <UNK> had been <UNK> building an audience that seemed a bit <UNK> than those that follow the kick <UNK> up <UNK> of <UNK> <UNK> or jean <UNK> van <UNK> br br in <UNK> for death <UNK> <UNK> aside any <UNK> at style and heads full <UNK> into <UNK> this film contains <UNK> of <UNK> violence gore and nudity that seem to be there for no reason other than to please <UNK> <UNK> who are <UNK> to <UNK> between action pictures that tell a story and those that simply <UNK> on the <UNK> without <UNK> or reason and he deserves some real blame for this <UNK> in taste as a producer of <UNK> for death br br <UNK> plays john <UNK> a <UNK> <UNK> agent who comes home to <UNK> where his family is being <UNK> by a <UNK> street gang who attack his <UNK> house and the film proves that it isn't <UNK> when <UNK> <UNK> <UNK> <UNK> is shot in the <UNK> <UNK> gets mad and he decides to team up with his old friend <UNK> <UNK> david a school <UNK> teacher and charles tom <UNK> a <UNK> cop br br naturally <UNK> <UNK> war on the <UNK> bad guy a <UNK> <UNK> <UNK> <UNK> <UNK> called <UNK> <UNK> a <UNK> that apparently means <UNK> <UNK> br br and it is almost unbelievable in the way <UNK> <UNK> off various members of the gang he <UNK> one <UNK> <UNK> he <UNK> a <UNK> back and he <UNK> numerous <UNK> and <UNK> br br all <UNK> for this movie is thrown out the <UNK> through the <UNK> that is why aren't <UNK> and friends <UNK> for all the <UNK> <UNK> they cause or the body count that <UNK> up and how did they get their <UNK> of <UNK> <UNK> from <UNK> to by plane without being <UNK> br br <UNK> has a <UNK> <UNK> <UNK> about him that fans once seemed to enjoy and despite the three different characters he's played in as many films each <UNK> in <UNK> black and <UNK> a <UNK> one of the problems that i have with some of <UNK> movies is that the main characters never seem to be in serious <UNK> and because he's the star of course no one can <UNK> a <UNK> on him except for the bad guy br br <UNK> heroes are all <UNK> as are most of the plot lines and action sequences <UNK> of whether he's <UNK> as a <UNK> <UNK> a fire <UNK> or an <UNK> a cop wearing love <UNK> <UNK> is always <UNK> which is exactly what his fans want in fact the of these films is such that if i wanted to i could take an old review change the names and have a <UNK> accurate take on the new movie not that i'd ever really do that\n",
            "\n",
            "Predicted : 0, real : 1, lenght: 340\n",
            "<START> it's <UNK> a studio <UNK> boy <UNK> the actress who is going to become <UNK> next great movie star and he's the director that's going to make it happen after <UNK> <UNK> <UNK> and the <UNK> cops his dream comes true being completely <UNK> in his film making however he fails to notice that he is <UNK> his leading lady to another man several over budget <UNK> later he is known as nothing more than the director who turned down <UNK> <UNK> <UNK> <UNK> for him the <UNK> and <UNK> <UNK> of hollywood are <UNK> by <UNK> and <UNK> <UNK> be okay as long as he still has his friends br br this movie starts out as a mad <UNK> comedy typical of the time period and in the opening scenes it holds its own with the best of them it has a <UNK> lack of self <UNK> which is <UNK> missing in most of today's comedies <UNK> into the film however it moves away from this <UNK> of comedy and instead attempts to <UNK> us using the films within the film these are silent <UNK> comedies well done but nothing out of the ordinary and they go on for much longer than is necessary for any audience which has seen the <UNK> upon <UNK> the film takes a dramatic turn it's well written and the cast does an excellent job of making the <UNK> but the movie really should have decided from the beginning what it was going to be br br by the end of the film it has <UNK> once again this time into a <UNK> to the <UNK> of hollywood the small town of <UNK> <UNK> has <UNK> up into the city which makes the movies that <UNK> the whole world br br in <UNK> of its <UNK> <UNK> this film has not <UNK> particularly well <UNK> it does have some strong scenes a certain <UNK> appeal and an entertaining sub <UNK> about the people who made it and the audiences it was made for\n",
            "\n",
            "Predicted : 0, real : 1, lenght: 190\n",
            "<START> i believe anyone who enjoyed <UNK> the terrible movies would enjoy this well <UNK> movie this movie played out like lord of the ring return of the king but without the special effect but as good and better drama br br we have the german who dressed like <UNK> <UNK> of <UNK> the russian <UNK> <UNK> to lead them to fight the german to save <UNK> <UNK> who played <UNK> in the <UNK> the terrible films was <UNK> as <UNK> the first 10 <UNK> how he <UNK> the <UNK> by <UNK> was <UNK> br br many of the scenes were beautiful even in black and white the <UNK> of war did not <UNK> any dialogue such as how many <UNK> we will be killing etc except for a few <UNK> the film can basically be played out as a silent film the fighting scene can hold up to those of the <UNK> war fighting scene of the <UNK> of a <UNK> br br another <UNK> of the movie is the great musical score by <UNK> the music gave an epic feel to the movie in those scenes without dialogue\n",
            "\n",
            "Predicted : 0, real : 1, lenght: 448\n",
            "<START> all right i'll <UNK> you that some of the science in <UNK> or journey to the far side of the <UNK> is kind of <UNK> the idea of an entire planet <UNK> <UNK> because we can't see it on the other side of our <UNK> doesn't hold up at all any <UNK> <UNK> student knows that another planet the <UNK> of earth would cause <UNK> in the <UNK> of other <UNK> that's how <UNK> <UNK> the <UNK> of <UNK> after all and that's how they find and <UNK> and <UNK> on a regular <UNK> br br and the idea that a <UNK> image earth somehow <UNK> in almost perfect <UNK> to our earth down to english speaking <UNK> and human <UNK> for each human born on our earth that takes things out of <UNK> fiction and into <UNK> <UNK> <UNK> that's not <UNK> a bad thing but it <UNK> a major <UNK> of <UNK> thinking to accept and enjoy br br but man this movie <UNK> my <UNK> off as an <UNK> i was still used to fairly <UNK> <UNK> science fiction films when the hero won through in the end even <UNK> could be <UNK> as having an ending br br but in this case <UNK> <UNK> to <UNK> with his <UNK> so he could return to his own earth only to be <UNK> back out of his <UNK> <UNK> something about 'the not being <UNK> because his wasn't doing the same thing apparently <UNK> had decided he was happy in his new home <UNK> ship started the <UNK> back to the <UNK> <UNK> and i was certain that he would somehow get the <UNK> <UNK> to land <UNK> and try again <UNK> with the new <UNK> that would let him and his <UNK> <UNK> he was the hero after all and the hero always <UNK> through in the end br br instead <UNK> couldn't <UNK> control of the <UNK> <UNK> and the <UNK> <UNK> <UNK> into the <UNK> <UNK> was so horrible and <UNK> that it killed everyone except for the <UNK> project <UNK> and <UNK> all <UNK> of the project and <UNK> <UNK> <UNK> never got to go home and he <UNK> <UNK> his <UNK> never <UNK> br br except for the planet of the <UNK> series i had never seen such a sad and <UNK> ending and it always stuck in my mind especially the <UNK> <UNK> of the <UNK> scene near the beginning of the move you knew that <UNK> was never going to <UNK> again and the one at the very end br br i'd love to see this movie again and see how well it held up over the years\n",
            "\n",
            "Predicted : 0, real : 1, lenght: 501\n",
            "<START> some said that this was a <UNK> candy <UNK> flick but short of the original dr <UNK> <UNK> no drug has yet been developed that can provide this effect if <UNK> was the <UNK> <UNK> stage that white <UNK> <UNK> is the stephen <UNK> <UNK> <UNK> or at least the <UNK> <UNK> <UNK> <UNK> this reality show is really about the <UNK> <UNK> of <UNK> seen as was the <UNK> without clothes few of us want to question the <UNK> field both because most of us would not have lived to our <UNK> age had we been born before modern <UNK> and because our <UNK> hopes that we will continue to live on if we have faith in the <UNK> <UNK> so the <UNK> who produced this movie made jokes out of those <UNK> giving us the <UNK> that <UNK> us to <UNK> the modern <UNK> of <UNK> the <UNK> was right and many were able to see the business side of the <UNK> <UNK> behind the <UNK> of <UNK> a <UNK> before when george c scott <UNK> through the movie the hospital my wife and i were sitting in the <UNK> <UNK> in <UNK> city just as in <UNK> <UNK> remake we were almost <UNK> to keep from falling out of our <UNK> and laughed and <UNK> <UNK> for the <UNK> the <UNK> of other audience members were <UNK> silent they were <UNK> that <UNK> <UNK> the hospital <UNK> were being <UNK> it was as if the <UNK> billy <UNK> and <UNK> were were sitting in the animal house <UNK> <UNK> <UNK> <UNK> and all <UNK> to see who could tell the funniest god <UNK> <UNK> jokes between had the hospital been a <UNK> comedy rather than a <UNK> they might have been able to see what was being shown to them unfortunately they were like <UNK> at a <UNK> of michael <UNK> 9 11 perhaps <UNK> <UNK> would have been given to the <UNK> <UNK> <UNK> <UNK> <UNK> <UNK> <UNK> would have had a <UNK> time <UNK> <UNK> care and <UNK> <UNK> would have been earlier if george c scott had <UNK> <UNK> in a <UNK> while <UNK> his terrible <UNK> but forget everything i just said watch the movie be <UNK> made as happy and <UNK> and full of <UNK> as the best ever <UNK> night live <UNK> and let the <UNK> <UNK> in the documentary of the <UNK> reality just don't blame me when got to got to got to got to becomes one of your <UNK> or when <UNK> got nothing to <UNK> <UNK> that <UNK> of your brain now <UNK> by its a small world after all or when you start <UNK> your local hospital our lady of pain and <UNK> instead of our lady of <UNK> <UNK> even were <UNK> their favorite terrible boss <UNK> <UNK> from <UNK> on him and leave him for dead to body in a <UNK> you in it the <UNK> of death it's gone <UNK> <UNK> mary mary\n",
            "\n",
            "Predicted : 0, real : 1, lenght: 125\n",
            "<START> the biggest problem that the tv <UNK> key west <UNK> was that it was <UNK> wrong if you saw the <UNK> you would think it was a <UNK> how and be <UNK> disappointed it was a <UNK> more complex show than that br br i happened to be in key west just before <UNK> <UNK> hit and i think i actually found myself having a <UNK> or two with some of the cast in <UNK> <UNK> of course that was before the show hit i did see the that was in the opening go by a few times and with the guy who you see <UNK> up in the opening too he was a real local yes i'd love to see this on dvd\n",
            "\n",
            "Predicted : 0, real : 1, lenght: 178\n",
            "<START> this is better then the first the movie <UNK> up with <UNK> sam then sam and <UNK> <UNK> there <UNK> up and head to the while jack <UNK> along br br people are shot get <UNK> through <UNK> get <UNK> by get <UNK> with <UNK> eyes <UNK> out head <UNK> <UNK> <UNK> <UNK> <UNK> into faces <UNK> <UNK> <UNK> to death killed by <UNK> <UNK> are <UNK> off <UNK> by anti <UNK> <UNK> down <UNK> hit in face with <UNK> and <UNK> <UNK> <UNK> <UNK> off <UNK> through <UNK> <UNK> on the <UNK> <UNK> people <UNK> <UNK> and <UNK> in br br the <UNK> are hilarious they put it into a <UNK> and turn it on then it says <UNK> was <UNK> they put in in a <UNK> thing and it gets <UNK> br br this is just a great movie then they start thinking of other ways to kill it and the <UNK> <UNK> <UNK> not <UNK> br br it was worth then ten <UNK> spent to buy this br br 10 out of 10 stars\n",
            "\n",
            "Predicted : 0, real : 1, lenght: 110\n",
            "<START> br br first of all i <UNK> this documentary because i had an interest in the subject it portrayed the la <UNK> br br i <UNK> that music and i loved that music and i read a lot of the small that were made in the early 80's and that were not so easily <UNK> in <UNK> br br so if you don't like this kind of music why you write here about it i like this kind of music it <UNK> my soul thus i know <UNK> from all over <UNK> <UNK> so why do you who find this music <UNK> care to comment at all br br\n",
            "\n",
            "Predicted : 1, real : 0, lenght: 251\n",
            "<START> there is a growing <UNK> in the media to <UNK> and <UNK> men one sees it in television <UNK> and <UNK> plots <UNK> is a <UNK> example they could find plenty of female <UNK> yet the <UNK> <UNK> shown are men why the <UNK> <UNK> to any <UNK> power <UNK> in the male <UNK> they're less likely to <UNK> by <UNK> and are more of a physical <UNK> <UNK> a way to <UNK> the <UNK> is to <UNK> men in society <UNK> the media other <UNK> of psychological <UNK> are crime <UNK> full of self <UNK> cops including big <UNK> <UNK> women <UNK> everyone they question <UNK> their <UNK> and making those men feel like <UNK> in <UNK> many top male <UNK> stars have been <UNK> recently for <UNK> <UNK> and <UNK> <UNK> another example of the government <UNK> the male <UNK> by <UNK> their heroes and <UNK> <UNK> <UNK> aside from the political <UNK> is an <UNK> of <UNK> and a <UNK> of <UNK> <UNK> most of these women <UNK> the men if it were <UNK> the other way the men would be in <UNK> if it were an honest show they would be finding women <UNK> because they don't normally get caught due to the fact that their male lovers are quite happy to get in no <UNK> <UNK> and get out without <UNK> the <UNK> <UNK> <UNK> want the men to themselves and want to own and control the men and thus get the men caught anyway\n",
            "\n"
          ]
        }
      ],
      "source": [
        "def show_errors(x_test, model, labels, int2word, n_samples=10):\n",
        "    preds = 1.0 * (model.predict(x_test).flatten() > 0.5)\n",
        "    bad_pred_inds = np.where(preds != labels)[0]\n",
        "    n_samples = min(len(bad_pred_inds), n_samples)\n",
        "    samples_inds = np.random.choice(bad_pred_inds, n_samples)\n",
        "    for ind in samples_inds:\n",
        "        print('Predicted : {0}, real : {1}, lenght: {2}'.format(\n",
        "            int(preds[ind]), labels[ind], len(test_data[ind])))\n",
        "        print(get_words(test_data[ind], int2word))\n",
        "        print()\n",
        "    return\n",
        "\n",
        "show_errors(x_test_seq, model, test_labels, int2word, n_samples=10)"
      ]
    },
    {
      "cell_type": "markdown",
      "metadata": {
        "id": "FsQgp5BJwdwO"
      },
      "source": [
        "#### Making predictioins with new data"
      ]
    },
    {
      "cell_type": "code",
      "execution_count": 23,
      "metadata": {
        "colab": {
          "base_uri": "https://localhost:8080/"
        },
        "id": "dl8ct179wdwO",
        "outputId": "bdd9e153-9ced-4f9b-ad62-333cbc06ae55"
      },
      "outputs": [
        {
          "output_type": "stream",
          "name": "stdout",
          "text": [
            "\u001b[1m1/1\u001b[0m \u001b[32m━━━━━━━━━━━━━━━━━━━━\u001b[0m\u001b[37m\u001b[0m \u001b[1m0s\u001b[0m 64ms/step\n"
          ]
        },
        {
          "output_type": "execute_result",
          "data": {
            "text/plain": [
              "array([[0.0879],\n",
              "       [0.9256],\n",
              "       [0.9249],\n",
              "       [0.9018],\n",
              "       [0.1034],\n",
              "       [0.0909]], dtype=float32)"
            ]
          },
          "metadata": {},
          "execution_count": 23
        }
      ],
      "source": [
        "reviews = ['the film was really bad and i am very disappointed',\n",
        "           'The film was very funny entertaining and good we had a great time . brilliant film',\n",
        "           'this film was just brilliant',\n",
        "           'the film is not good',\n",
        "           'the film is not bad',\n",
        "          'the movie is not bad I like it']\n",
        "sequences = [vectorize_text_sentence(review.lower(), word2int)\n",
        "             for review in reviews]\n",
        "\n",
        "## Padding the sequences\n",
        "x_pred  = sequence.pad_sequences(sequences, maxlen=max_len, truncating='post', padding='post')# ...\n",
        "\n",
        "np.round(model.predict(x_pred), 4)"
      ]
    },
    {
      "cell_type": "code",
      "execution_count": 24,
      "metadata": {
        "colab": {
          "base_uri": "https://localhost:8080/"
        },
        "id": "62kHbjwtwdwO",
        "outputId": "4e32c844-4663-4ea1-d4b0-2e3ec69f0f74"
      },
      "outputs": [
        {
          "output_type": "stream",
          "name": "stdout",
          "text": [
            "\u001b[1m1/1\u001b[0m \u001b[32m━━━━━━━━━━━━━━━━━━━━\u001b[0m\u001b[37m\u001b[0m \u001b[1m0s\u001b[0m 45ms/step\n"
          ]
        },
        {
          "output_type": "execute_result",
          "data": {
            "text/plain": [
              "array([[0.],\n",
              "       [1.],\n",
              "       [1.],\n",
              "       [1.],\n",
              "       [0.],\n",
              "       [0.]])"
            ]
          },
          "metadata": {},
          "execution_count": 24
        }
      ],
      "source": [
        "1.0*(model.predict(x_pred) > 0.5)"
      ]
    },
    {
      "cell_type": "markdown",
      "metadata": {
        "id": "FPe_qjKywdwO"
      },
      "source": [
        "### GRU model\n",
        "Use `keras.layers.GRU`\n"
      ]
    },
    {
      "cell_type": "code",
      "execution_count": 32,
      "metadata": {
        "id": "AuXEbQ5cwdwO"
      },
      "outputs": [],
      "source": [
        "model = tf.keras.models.Sequential()\n",
        "model.add(tf.keras.Input(shape=(max_len,), name='input'))\n",
        "## one-hot encoding\n",
        "model.add(layers.Embedding(input_dim=num_words, output_dim=num_words,\n",
        "                           input_length=max_len, embeddings_initializer='identity',\n",
        "                           trainable=False))\n",
        "\n",
        "## complete the model with recurrent layers\n",
        "##model.add(...)\n",
        "model.add(layers.GRU(16, return_sequences=False))\n",
        "model.add(layers.Dense(1, activation='sigmoid'))\n"
      ]
    },
    {
      "cell_type": "code",
      "execution_count": 33,
      "metadata": {
        "colab": {
          "base_uri": "https://localhost:8080/"
        },
        "id": "eOfw6dYxwdwO",
        "outputId": "f24de5c3-b507-40e9-8a93-a4b72f03d12e"
      },
      "outputs": [
        {
          "output_type": "stream",
          "name": "stdout",
          "text": [
            "Epoch 1/5\n",
            "\u001b[1m88/88\u001b[0m \u001b[32m━━━━━━━━━━━━━━━━━━━━\u001b[0m\u001b[37m\u001b[0m \u001b[1m69s\u001b[0m 757ms/step - accuracy: 0.5161 - loss: 0.6922 - val_accuracy: 0.5792 - val_loss: 0.6842\n",
            "Epoch 2/5\n",
            "\u001b[1m88/88\u001b[0m \u001b[32m━━━━━━━━━━━━━━━━━━━━\u001b[0m\u001b[37m\u001b[0m \u001b[1m68s\u001b[0m 773ms/step - accuracy: 0.6577 - loss: 0.6211 - val_accuracy: 0.7716 - val_loss: 0.4872\n",
            "Epoch 3/5\n",
            "\u001b[1m88/88\u001b[0m \u001b[32m━━━━━━━━━━━━━━━━━━━━\u001b[0m\u001b[37m\u001b[0m \u001b[1m67s\u001b[0m 754ms/step - accuracy: 0.8024 - loss: 0.4392 - val_accuracy: 0.8076 - val_loss: 0.4227\n",
            "Epoch 4/5\n",
            "\u001b[1m88/88\u001b[0m \u001b[32m━━━━━━━━━━━━━━━━━━━━\u001b[0m\u001b[37m\u001b[0m \u001b[1m79s\u001b[0m 725ms/step - accuracy: 0.8377 - loss: 0.3790 - val_accuracy: 0.8076 - val_loss: 0.4175\n",
            "Epoch 5/5\n",
            "\u001b[1m88/88\u001b[0m \u001b[32m━━━━━━━━━━━━━━━━━━━━\u001b[0m\u001b[37m\u001b[0m \u001b[1m64s\u001b[0m 725ms/step - accuracy: 0.8438 - loss: 0.3629 - val_accuracy: 0.8144 - val_loss: 0.4112\n"
          ]
        }
      ],
      "source": [
        "## set the loss and see the results\n",
        "model.compile(\n",
        "    optimizer='adam',\n",
        "    ##loss=...,\n",
        "    loss='binary_crossentropy',\n",
        "    metrics=['accuracy']\n",
        ")\n",
        "epochs = 5\n",
        "history = model.fit(x_train_seq, train_labels,\n",
        "                    validation_split=0.1, epochs=epochs,\n",
        "                    batch_size=256)"
      ]
    },
    {
      "cell_type": "code",
      "execution_count": 34,
      "metadata": {
        "colab": {
          "base_uri": "https://localhost:8080/"
        },
        "id": "bjClmUOJwdwO",
        "outputId": "8753c7ad-d1e2-4809-b924-f69475ae1866"
      },
      "outputs": [
        {
          "output_type": "stream",
          "name": "stdout",
          "text": [
            "\u001b[1m782/782\u001b[0m \u001b[32m━━━━━━━━━━━━━━━━━━━━\u001b[0m\u001b[37m\u001b[0m \u001b[1m39s\u001b[0m 49ms/step - accuracy: 0.8060 - loss: 0.4228\n",
            "Test Loss: 0.42710161209106445\n",
            "Test Accuracy: 0.8046000003814697\n"
          ]
        }
      ],
      "source": [
        "results = model.evaluate(x_test_seq, test_labels, verbose=1)\n",
        "print('Test Loss: {}'.format(results[0]))\n",
        "print('Test Accuracy: {}'.format(results[1]))"
      ]
    },
    {
      "cell_type": "markdown",
      "metadata": {
        "id": "Nw-b9FLzwdwO"
      },
      "source": [
        "### LSTM model\n",
        "Use `keras.layers.LSTM`\n"
      ]
    },
    {
      "cell_type": "code",
      "execution_count": 28,
      "metadata": {
        "colab": {
          "base_uri": "https://localhost:8080/",
          "height": 315
        },
        "id": "jUURz-kZwdwP",
        "outputId": "86172f0e-557d-4092-bdaf-94626df9645f"
      },
      "outputs": [
        {
          "output_type": "error",
          "ename": "ValueError",
          "evalue": "Only instances of `keras.Layer` can be added to a Sequential model. Received: Ellipsis (of type <class 'ellipsis'>)",
          "traceback": [
            "\u001b[0;31m---------------------------------------------------------------------------\u001b[0m",
            "\u001b[0;31mValueError\u001b[0m                                Traceback (most recent call last)",
            "\u001b[0;32m/tmp/ipython-input-344073736.py\u001b[0m in \u001b[0;36m<cell line: 0>\u001b[0;34m()\u001b[0m\n\u001b[1;32m      7\u001b[0m \u001b[0;34m\u001b[0m\u001b[0m\n\u001b[1;32m      8\u001b[0m \u001b[0;31m## complete the model with recurrent layers\u001b[0m\u001b[0;34m\u001b[0m\u001b[0;34m\u001b[0m\u001b[0m\n\u001b[0;32m----> 9\u001b[0;31m \u001b[0mmodel\u001b[0m\u001b[0;34m.\u001b[0m\u001b[0madd\u001b[0m\u001b[0;34m(\u001b[0m\u001b[0;34m...\u001b[0m\u001b[0;34m)\u001b[0m\u001b[0;34m\u001b[0m\u001b[0;34m\u001b[0m\u001b[0m\n\u001b[0m",
            "\u001b[0;32m/usr/local/lib/python3.12/dist-packages/keras/src/models/sequential.py\u001b[0m in \u001b[0;36madd\u001b[0;34m(self, layer, rebuild)\u001b[0m\n\u001b[1;32m     95\u001b[0m                 \u001b[0mlayer\u001b[0m \u001b[0;34m=\u001b[0m \u001b[0morigin_layer\u001b[0m\u001b[0;34m\u001b[0m\u001b[0;34m\u001b[0m\u001b[0m\n\u001b[1;32m     96\u001b[0m         \u001b[0;32mif\u001b[0m \u001b[0;32mnot\u001b[0m \u001b[0misinstance\u001b[0m\u001b[0;34m(\u001b[0m\u001b[0mlayer\u001b[0m\u001b[0;34m,\u001b[0m \u001b[0mLayer\u001b[0m\u001b[0;34m)\u001b[0m\u001b[0;34m:\u001b[0m\u001b[0;34m\u001b[0m\u001b[0;34m\u001b[0m\u001b[0m\n\u001b[0;32m---> 97\u001b[0;31m             raise ValueError(\n\u001b[0m\u001b[1;32m     98\u001b[0m                 \u001b[0;34m\"Only instances of `keras.Layer` can be \"\u001b[0m\u001b[0;34m\u001b[0m\u001b[0;34m\u001b[0m\u001b[0m\n\u001b[1;32m     99\u001b[0m                 \u001b[0;34mf\"added to a Sequential model. Received: {layer} \"\u001b[0m\u001b[0;34m\u001b[0m\u001b[0;34m\u001b[0m\u001b[0m\n",
            "\u001b[0;31mValueError\u001b[0m: Only instances of `keras.Layer` can be added to a Sequential model. Received: Ellipsis (of type <class 'ellipsis'>)"
          ]
        }
      ],
      "source": [
        "model = tf.keras.models.Sequential()\n",
        "model.add(tf.keras.Input(shape=(max_len,), name='input'))\n",
        "## one-hot encoding\n",
        "model.add(layers.Embedding(input_dim=num_words, output_dim=num_words,\n",
        "                           input_length=max_len, embeddings_initializer='identity',\n",
        "                           trainable=False))\n",
        "\n",
        "## complete the model with recurrent layers\n",
        "model.add(...)"
      ]
    },
    {
      "cell_type": "code",
      "execution_count": null,
      "metadata": {
        "id": "qIgl_ZUVwdwP"
      },
      "outputs": [],
      "source": [
        "## set the loss and see the results\n",
        "model.compile(\n",
        "    optimizer='adam',\n",
        "    loss=...,\n",
        "    metrics=['accuracy']\n",
        ")\n",
        "epochs = 5\n",
        "history = model.fit(x_train_seq, train_labels,\n",
        "                    validation_split=0.1, epochs=epochs,\n",
        "                    batch_size=256)"
      ]
    },
    {
      "cell_type": "code",
      "execution_count": null,
      "metadata": {
        "id": "7-6phFnDwdwP"
      },
      "outputs": [],
      "source": [
        "results = model.evaluate(x_test_seq, test_labels, verbose=1)\n",
        "print('Test Loss: {}'.format(results[0]))\n",
        "print('Test Accuracy: {}'.format(results[1]))"
      ]
    },
    {
      "cell_type": "markdown",
      "metadata": {
        "id": "MLcz2TZxwdwP"
      },
      "source": [
        "### Deep model\n",
        "Use `keras.layers.SimpleRNN`,  `keras.layers.GRU`,  `keras.layers.LSTM` or `keras.layers.Bidirectional`\n"
      ]
    },
    {
      "cell_type": "code",
      "execution_count": null,
      "metadata": {
        "id": "u3kIzsCXwdwP"
      },
      "outputs": [],
      "source": [
        "model = tf.keras.models.Sequential()\n",
        "model.add(tf.keras.Input(shape=(max_len,), name='input'))\n",
        "## one-hot encoding\n",
        "model.add(layers.Embedding(input_dim=num_words, output_dim=num_words,\n",
        "                           input_length=max_len, embeddings_initializer='identity',\n",
        "                           trainable=False))\n",
        "\n",
        "## complete the model with recurrent layers\n",
        "model.add(...)"
      ]
    },
    {
      "cell_type": "code",
      "execution_count": null,
      "metadata": {
        "id": "2U8GbgDiwdwP"
      },
      "outputs": [],
      "source": [
        "## set the loss and see the results\n",
        "model.compile(\n",
        "    optimizer='adam',\n",
        "    loss=...,\n",
        "    metrics=['accuracy']\n",
        ")\n",
        "epochs = 5\n",
        "history = model.fit(x_train_seq, train_labels,\n",
        "                    validation_split=0.1, epochs=epochs,\n",
        "                    batch_size=256)"
      ]
    },
    {
      "cell_type": "code",
      "execution_count": null,
      "metadata": {
        "id": "1JYLZ9HswdwP"
      },
      "outputs": [],
      "source": [
        "results = model.evaluate(x_test_seq, test_labels, verbose=1)\n",
        "print('Test Loss: {}'.format(results[0]))\n",
        "print('Test Accuracy: {}'.format(results[1]))"
      ]
    },
    {
      "cell_type": "markdown",
      "metadata": {
        "id": "fcYIWrTZwdwP"
      },
      "source": [
        "### Bidirectional model\n",
        "Use `keras.layers.SimpleRNN`,  `keras.layers.GRU`,  `keras.layers.LSTM` with `keras.layers.Bidirectional`\n"
      ]
    },
    {
      "cell_type": "code",
      "execution_count": null,
      "metadata": {
        "id": "EQAh8orewdwP"
      },
      "outputs": [],
      "source": [
        "model = tf.keras.models.Sequential()\n",
        "model.add(tf.keras.Input(shape=(max_len,), name='input'))\n",
        "## one-hot encoding\n",
        "model.add(layers.Embedding(input_dim=num_words, output_dim=num_words,\n",
        "                           input_length=max_len, embeddings_initializer='identity',\n",
        "                           trainable=False))\n",
        "\n",
        "## complete the model with recurrent layers\n",
        "model.add(...)"
      ]
    },
    {
      "cell_type": "markdown",
      "source": [],
      "metadata": {
        "id": "CEdw6qwnjCUs"
      }
    },
    {
      "cell_type": "code",
      "execution_count": null,
      "metadata": {
        "id": "1pi9GhRdwdwP"
      },
      "outputs": [],
      "source": [
        "## set the loss and see the results\n",
        "model.compile(\n",
        "    optimizer='adam',\n",
        "    loss=...,\n",
        "    metrics=['accuracy']\n",
        ")\n",
        "epochs = 5\n",
        "history = model.fit(x_train_seq, train_labels,\n",
        "                    validation_split=0.1, epochs=epochs,\n",
        "                    batch_size=256)"
      ]
    },
    {
      "cell_type": "code",
      "execution_count": null,
      "metadata": {
        "id": "X4XKoZfQwdwP"
      },
      "outputs": [],
      "source": [
        "results = model.evaluate(x_test_seq, test_labels, verbose=1)\n",
        "print('Test Loss: {}'.format(results[0]))\n",
        "print('Test Accuracy: {}'.format(results[1]))"
      ]
    },
    {
      "cell_type": "markdown",
      "metadata": {
        "id": "uowB2z6iwdwP"
      },
      "source": [
        "#### Making predictioins with new data"
      ]
    },
    {
      "cell_type": "code",
      "execution_count": null,
      "metadata": {
        "id": "nz59RMajwdwP"
      },
      "outputs": [],
      "source": [
        "reviews = ['the film was really bad and i am very disappointed',\n",
        "           'The film was very funny entertaining and good we had a great time . brilliant film',\n",
        "           'this film was just brilliant',\n",
        "           'the film is not good',\n",
        "           'the film is not bad',\n",
        "          'the movie is not bad I like it']\n",
        "sequences = [vectorize_text_sentence(review.lower(), word2int)\n",
        "             for review in reviews]\n",
        "\n",
        "## Padding the sequences\n",
        "x_pred  = sequence.pad_sequences(sequences, maxlen=max_len, truncating='post', padding='post')# ...\n",
        "\n",
        "np.round(model.predict(x_pred), 4)"
      ]
    },
    {
      "cell_type": "code",
      "execution_count": null,
      "metadata": {
        "id": "mFfZH1K1wdwP"
      },
      "outputs": [],
      "source": [
        "show_errors(x_test_seq, model, test_labels, int2word, n_samples=10)"
      ]
    },
    {
      "cell_type": "markdown",
      "metadata": {
        "id": "LVXg4x5-wdwP"
      },
      "source": [
        "###  Use a convolutional network instead of a RNN\n",
        "\n",
        "```python\n",
        "tf.keras.layers.Conv1D(\n",
        "    filters, kernel_size\n",
        ")\n",
        "```\n",
        "\n",
        "```python\n",
        "tf.keras.layers.MaxPool1D(\n",
        "    pool_size=2\n",
        ")\n",
        "```\n",
        "\n",
        "```python\n",
        "tf.keras.layers.Flatten()\n",
        "```"
      ]
    },
    {
      "cell_type": "code",
      "execution_count": null,
      "metadata": {
        "id": "oJgun6LuwdwP"
      },
      "outputs": [],
      "source": [
        "from tensorflow.keras.datasets import imdb\n",
        "num_words = 2000\n",
        "((train_data, train_labels), (test_data, test_labels)\n",
        " ) = imdb.load_data(num_words=num_words)\n",
        "\n",
        "#  limit the data for class time\n",
        "# Transform word_id to word and reverse\n",
        "word2int = imdb.get_word_index()\n",
        "word2int = {w: i+3 for w, i in word2int.items()}\n",
        "word2int[\"<PAD>\"] = 0\n",
        "word2int[\"<START>\"] = 1\n",
        "word2int[\"<UNK>\"] = 2\n",
        "word2int[\"<UNUSED>\"] = 3\n",
        "int2word = {i: w for w, i in word2int.items()}\n",
        "num_words = num_words+3\n"
      ]
    },
    {
      "cell_type": "code",
      "execution_count": null,
      "metadata": {
        "id": "XyaiC97ZwdwP"
      },
      "outputs": [],
      "source": [
        "max_len = 100\n",
        "x_train_seq = sequence.pad_sequences(train_data, maxlen=max_len, truncating='post', padding='post')\n",
        "x_test_seq = sequence.pad_sequences(test_data, maxlen=max_len, truncating='post', padding='post')\n",
        "\n",
        "print('train shape:', x_train_seq.shape)\n",
        "print('test shape:', x_test_seq.shape)"
      ]
    },
    {
      "cell_type": "code",
      "execution_count": null,
      "metadata": {
        "id": "ncswaEWowdwP"
      },
      "outputs": [],
      "source": [
        "model = tf.keras.models.Sequential()\n",
        "model.add(tf.keras.Input(shape=(max_len,), name='input'))\n",
        "## one-hot encoding\n",
        "model.add(layers.Embedding(input_dim=num_words, output_dim=num_words,\n",
        "                           input_length=max_len, embeddings_initializer='identity',\n",
        "                           trainable=False))\n",
        "\n",
        "\n",
        "model.add(layers.Conv1D(32, 3, activation='relu'))\n",
        "model.add(layers.MaxPooling1D(2))\n",
        "\n",
        "model.add(layers.Dropout(0.5))\n",
        "model.add(layers.Conv1D(32, 3, activation='relu'))\n",
        "model.add(layers.MaxPooling1D(2))\n",
        "\n",
        "model.add(layers.Dropout(0.5))\n",
        "model.add(layers.Flatten())\n",
        "model.add(layers.Dense(32, activation='relu'))\n",
        "model.add(layers.Dense(1, activation='sigmoid'))"
      ]
    },
    {
      "cell_type": "code",
      "execution_count": null,
      "metadata": {
        "id": "C642V6mEwdwP"
      },
      "outputs": [],
      "source": [
        "model.compile(\n",
        "    optimizer='adam',\n",
        "    loss='binary_crossentropy',\n",
        "    metrics=['accuracy']\n",
        ")\n",
        "epochs = 5\n",
        "history = model.fit(x_train_seq, train_labels,\n",
        "                    validation_split=0.1, epochs=epochs,\n",
        "                    batch_size=256)"
      ]
    },
    {
      "cell_type": "code",
      "execution_count": null,
      "metadata": {
        "id": "qnLtRPjTwdwQ"
      },
      "outputs": [],
      "source": [
        "reviews = ['the film was really bad and i am very disappointed',\n",
        "           'The film was very funny entertaining and good we had a great time . brilliant film',\n",
        "           'this film was just brilliant',\n",
        "           'the film is not good',\n",
        "           'the film is not bad']\n",
        "sequences = [vectorize_text_sentence(review.lower(), word2int)\n",
        "             for review in reviews]\n",
        "\n",
        "## Padding the sequences\n",
        "x_pred  = sequence.pad_sequences(sequences, maxlen=max_len, truncating='post', padding='post')# ...\n",
        "\n",
        "np.round(model.predict(x_pred), 4)"
      ]
    },
    {
      "cell_type": "code",
      "execution_count": null,
      "metadata": {
        "id": "6g6fdP3hwdwQ"
      },
      "outputs": [],
      "source": [
        "show_errors(x_test_seq, model, test_labels, int2word, n_samples=10)"
      ]
    }
  ],
  "metadata": {
    "kernelspec": {
      "display_name": "Python 3",
      "language": "python",
      "name": "python3"
    },
    "language_info": {
      "codemirror_mode": {
        "name": "ipython",
        "version": 3
      },
      "file_extension": ".py",
      "mimetype": "text/x-python",
      "name": "python",
      "nbconvert_exporter": "python",
      "pygments_lexer": "ipython3",
      "version": "3.8.5"
    },
    "colab": {
      "provenance": []
    }
  },
  "nbformat": 4,
  "nbformat_minor": 0
}