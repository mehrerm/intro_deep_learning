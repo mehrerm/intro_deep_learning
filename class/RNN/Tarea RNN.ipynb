{
  "cells": [
    {
      "cell_type": "markdown",
      "id": "prospective-america",
      "metadata": {
        "id": "prospective-america"
      },
      "source": [
        "Dado que el entrenamiento de redes neuronales es una tarea  muy costosa, **se recomienda ejecutar el notebooks en [Google Colab](https://colab.research.google.com)**, por supuesto también se puede ejecutar en local.\n",
        "\n",
        "Al entrar en [Google Colab](https://colab.research.google.com) bastará con hacer click en `upload` y subir este notebook. No olvide luego descargarlo en `File->Download .ipynb`\n",
        "\n",
        "**El examen deberá ser entregado con las celdas ejecutadas, si alguna celda no está ejecutadas no se contará.**"
      ]
    },
    {
      "cell_type": "markdown",
      "id": "novel-stewart",
      "metadata": {
        "id": "novel-stewart"
      },
      "source": [
        "El examen se divide en tres partes, con la puntuación que se indica a continuación. La puntuación máxima será 10.\n",
        "\n",
        "    \n",
        "- [Actividad 1: Redes Recurrentes](#actividad_1): 10 pts\n",
        "    - [Cuestión 1](#3.1): 2.5 pt\n",
        "    - [Cuestión 2](#3.2): 2.5 pt\n",
        "    - [Cuestión 3](#3.3): 2.5 pts\n",
        "    - [Cuestión 4](#3.4): 1.25 pts\n",
        "    - [Cuestión 5](#3.5): 1.25 pts\n",
        "\n"
      ]
    },
    {
      "cell_type": "code",
      "execution_count": 1,
      "id": "prompt-developer",
      "metadata": {
        "id": "prompt-developer"
      },
      "outputs": [],
      "source": [
        "import tensorflow as tf\n",
        "from tensorflow import keras\n",
        "from tensorflow.keras import layers\n",
        "import matplotlib.pyplot as plt\n",
        "import pandas as pd\n",
        "import numpy as np"
      ]
    },
    {
      "cell_type": "markdown",
      "id": "regional-favorite",
      "metadata": {
        "id": "regional-favorite"
      },
      "source": [
        "<a name='actividad_1'></a>\n",
        "# Actividad 1: Redes Recurrentes\n",
        "\n",
        "\n",
        "- [Cuestión 1](#3.1): 2.5 pt\n",
        "- [Cuestión 2](#3.2): 2.5 pt\n",
        "- [Cuestión 3](#3.3): 2.5 pts\n",
        "- [Cuestión 4](#3.4): 1.25 pts\n",
        "- [Cuestión 5](#3.5): 1.25 pts\n",
        "\n",
        "Vamos a usar un dataset de las temperaturas mínimas diarias en Melbourne. La tarea será la de predecir la temperatura mínima en dos días. Puedes usar técnicas de series temporales vistas en otras asignaturas, pero no es necesario.\n"
      ]
    },
    {
      "cell_type": "code",
      "execution_count": 2,
      "id": "empty-value",
      "metadata": {
        "id": "empty-value",
        "colab": {
          "base_uri": "https://localhost:8080/"
        },
        "outputId": "9a2f8774-8e86-41ba-be52-5a54689c55d8"
      },
      "outputs": [
        {
          "output_type": "stream",
          "name": "stdout",
          "text": [
            "Downloading data from https://raw.githubusercontent.com/jbrownlee/Datasets/master/daily-min-temperatures.csv\n",
            "\u001b[1m67921/67921\u001b[0m \u001b[32m━━━━━━━━━━━━━━━━━━━━\u001b[0m\u001b[37m\u001b[0m \u001b[1m0s\u001b[0m 0us/step\n"
          ]
        }
      ],
      "source": [
        "dataset_url = 'https://raw.githubusercontent.com/jbrownlee/Datasets/master/daily-min-temperatures.csv'\n",
        "data_dir = tf.keras.utils.get_file('daily-min-temperatures.csv', origin=dataset_url)"
      ]
    },
    {
      "cell_type": "code",
      "execution_count": 3,
      "id": "numerous-situation",
      "metadata": {
        "id": "numerous-situation",
        "colab": {
          "base_uri": "https://localhost:8080/",
          "height": 206
        },
        "outputId": "5394d691-caec-40d1-9f8b-a76b06334bbe"
      },
      "outputs": [
        {
          "output_type": "execute_result",
          "data": {
            "text/plain": [
              "        Date  Temp\n",
              "0 1981-01-01  20.7\n",
              "1 1981-01-02  17.9\n",
              "2 1981-01-03  18.8\n",
              "3 1981-01-04  14.6\n",
              "4 1981-01-05  15.8"
            ],
            "text/html": [
              "\n",
              "  <div id=\"df-56c203eb-1d98-4b9a-8633-0a627db6182f\" class=\"colab-df-container\">\n",
              "    <div>\n",
              "<style scoped>\n",
              "    .dataframe tbody tr th:only-of-type {\n",
              "        vertical-align: middle;\n",
              "    }\n",
              "\n",
              "    .dataframe tbody tr th {\n",
              "        vertical-align: top;\n",
              "    }\n",
              "\n",
              "    .dataframe thead th {\n",
              "        text-align: right;\n",
              "    }\n",
              "</style>\n",
              "<table border=\"1\" class=\"dataframe\">\n",
              "  <thead>\n",
              "    <tr style=\"text-align: right;\">\n",
              "      <th></th>\n",
              "      <th>Date</th>\n",
              "      <th>Temp</th>\n",
              "    </tr>\n",
              "  </thead>\n",
              "  <tbody>\n",
              "    <tr>\n",
              "      <th>0</th>\n",
              "      <td>1981-01-01</td>\n",
              "      <td>20.7</td>\n",
              "    </tr>\n",
              "    <tr>\n",
              "      <th>1</th>\n",
              "      <td>1981-01-02</td>\n",
              "      <td>17.9</td>\n",
              "    </tr>\n",
              "    <tr>\n",
              "      <th>2</th>\n",
              "      <td>1981-01-03</td>\n",
              "      <td>18.8</td>\n",
              "    </tr>\n",
              "    <tr>\n",
              "      <th>3</th>\n",
              "      <td>1981-01-04</td>\n",
              "      <td>14.6</td>\n",
              "    </tr>\n",
              "    <tr>\n",
              "      <th>4</th>\n",
              "      <td>1981-01-05</td>\n",
              "      <td>15.8</td>\n",
              "    </tr>\n",
              "  </tbody>\n",
              "</table>\n",
              "</div>\n",
              "    <div class=\"colab-df-buttons\">\n",
              "\n",
              "  <div class=\"colab-df-container\">\n",
              "    <button class=\"colab-df-convert\" onclick=\"convertToInteractive('df-56c203eb-1d98-4b9a-8633-0a627db6182f')\"\n",
              "            title=\"Convert this dataframe to an interactive table.\"\n",
              "            style=\"display:none;\">\n",
              "\n",
              "  <svg xmlns=\"http://www.w3.org/2000/svg\" height=\"24px\" viewBox=\"0 -960 960 960\">\n",
              "    <path d=\"M120-120v-720h720v720H120Zm60-500h600v-160H180v160Zm220 220h160v-160H400v160Zm0 220h160v-160H400v160ZM180-400h160v-160H180v160Zm440 0h160v-160H620v160ZM180-180h160v-160H180v160Zm440 0h160v-160H620v160Z\"/>\n",
              "  </svg>\n",
              "    </button>\n",
              "\n",
              "  <style>\n",
              "    .colab-df-container {\n",
              "      display:flex;\n",
              "      gap: 12px;\n",
              "    }\n",
              "\n",
              "    .colab-df-convert {\n",
              "      background-color: #E8F0FE;\n",
              "      border: none;\n",
              "      border-radius: 50%;\n",
              "      cursor: pointer;\n",
              "      display: none;\n",
              "      fill: #1967D2;\n",
              "      height: 32px;\n",
              "      padding: 0 0 0 0;\n",
              "      width: 32px;\n",
              "    }\n",
              "\n",
              "    .colab-df-convert:hover {\n",
              "      background-color: #E2EBFA;\n",
              "      box-shadow: 0px 1px 2px rgba(60, 64, 67, 0.3), 0px 1px 3px 1px rgba(60, 64, 67, 0.15);\n",
              "      fill: #174EA6;\n",
              "    }\n",
              "\n",
              "    .colab-df-buttons div {\n",
              "      margin-bottom: 4px;\n",
              "    }\n",
              "\n",
              "    [theme=dark] .colab-df-convert {\n",
              "      background-color: #3B4455;\n",
              "      fill: #D2E3FC;\n",
              "    }\n",
              "\n",
              "    [theme=dark] .colab-df-convert:hover {\n",
              "      background-color: #434B5C;\n",
              "      box-shadow: 0px 1px 3px 1px rgba(0, 0, 0, 0.15);\n",
              "      filter: drop-shadow(0px 1px 2px rgba(0, 0, 0, 0.3));\n",
              "      fill: #FFFFFF;\n",
              "    }\n",
              "  </style>\n",
              "\n",
              "    <script>\n",
              "      const buttonEl =\n",
              "        document.querySelector('#df-56c203eb-1d98-4b9a-8633-0a627db6182f button.colab-df-convert');\n",
              "      buttonEl.style.display =\n",
              "        google.colab.kernel.accessAllowed ? 'block' : 'none';\n",
              "\n",
              "      async function convertToInteractive(key) {\n",
              "        const element = document.querySelector('#df-56c203eb-1d98-4b9a-8633-0a627db6182f');\n",
              "        const dataTable =\n",
              "          await google.colab.kernel.invokeFunction('convertToInteractive',\n",
              "                                                    [key], {});\n",
              "        if (!dataTable) return;\n",
              "\n",
              "        const docLinkHtml = 'Like what you see? Visit the ' +\n",
              "          '<a target=\"_blank\" href=https://colab.research.google.com/notebooks/data_table.ipynb>data table notebook</a>'\n",
              "          + ' to learn more about interactive tables.';\n",
              "        element.innerHTML = '';\n",
              "        dataTable['output_type'] = 'display_data';\n",
              "        await google.colab.output.renderOutput(dataTable, element);\n",
              "        const docLink = document.createElement('div');\n",
              "        docLink.innerHTML = docLinkHtml;\n",
              "        element.appendChild(docLink);\n",
              "      }\n",
              "    </script>\n",
              "  </div>\n",
              "\n",
              "\n",
              "    <div id=\"df-92f7dce5-af6d-4c50-a212-486abb192af5\">\n",
              "      <button class=\"colab-df-quickchart\" onclick=\"quickchart('df-92f7dce5-af6d-4c50-a212-486abb192af5')\"\n",
              "                title=\"Suggest charts\"\n",
              "                style=\"display:none;\">\n",
              "\n",
              "<svg xmlns=\"http://www.w3.org/2000/svg\" height=\"24px\"viewBox=\"0 0 24 24\"\n",
              "     width=\"24px\">\n",
              "    <g>\n",
              "        <path d=\"M19 3H5c-1.1 0-2 .9-2 2v14c0 1.1.9 2 2 2h14c1.1 0 2-.9 2-2V5c0-1.1-.9-2-2-2zM9 17H7v-7h2v7zm4 0h-2V7h2v10zm4 0h-2v-4h2v4z\"/>\n",
              "    </g>\n",
              "</svg>\n",
              "      </button>\n",
              "\n",
              "<style>\n",
              "  .colab-df-quickchart {\n",
              "      --bg-color: #E8F0FE;\n",
              "      --fill-color: #1967D2;\n",
              "      --hover-bg-color: #E2EBFA;\n",
              "      --hover-fill-color: #174EA6;\n",
              "      --disabled-fill-color: #AAA;\n",
              "      --disabled-bg-color: #DDD;\n",
              "  }\n",
              "\n",
              "  [theme=dark] .colab-df-quickchart {\n",
              "      --bg-color: #3B4455;\n",
              "      --fill-color: #D2E3FC;\n",
              "      --hover-bg-color: #434B5C;\n",
              "      --hover-fill-color: #FFFFFF;\n",
              "      --disabled-bg-color: #3B4455;\n",
              "      --disabled-fill-color: #666;\n",
              "  }\n",
              "\n",
              "  .colab-df-quickchart {\n",
              "    background-color: var(--bg-color);\n",
              "    border: none;\n",
              "    border-radius: 50%;\n",
              "    cursor: pointer;\n",
              "    display: none;\n",
              "    fill: var(--fill-color);\n",
              "    height: 32px;\n",
              "    padding: 0;\n",
              "    width: 32px;\n",
              "  }\n",
              "\n",
              "  .colab-df-quickchart:hover {\n",
              "    background-color: var(--hover-bg-color);\n",
              "    box-shadow: 0 1px 2px rgba(60, 64, 67, 0.3), 0 1px 3px 1px rgba(60, 64, 67, 0.15);\n",
              "    fill: var(--button-hover-fill-color);\n",
              "  }\n",
              "\n",
              "  .colab-df-quickchart-complete:disabled,\n",
              "  .colab-df-quickchart-complete:disabled:hover {\n",
              "    background-color: var(--disabled-bg-color);\n",
              "    fill: var(--disabled-fill-color);\n",
              "    box-shadow: none;\n",
              "  }\n",
              "\n",
              "  .colab-df-spinner {\n",
              "    border: 2px solid var(--fill-color);\n",
              "    border-color: transparent;\n",
              "    border-bottom-color: var(--fill-color);\n",
              "    animation:\n",
              "      spin 1s steps(1) infinite;\n",
              "  }\n",
              "\n",
              "  @keyframes spin {\n",
              "    0% {\n",
              "      border-color: transparent;\n",
              "      border-bottom-color: var(--fill-color);\n",
              "      border-left-color: var(--fill-color);\n",
              "    }\n",
              "    20% {\n",
              "      border-color: transparent;\n",
              "      border-left-color: var(--fill-color);\n",
              "      border-top-color: var(--fill-color);\n",
              "    }\n",
              "    30% {\n",
              "      border-color: transparent;\n",
              "      border-left-color: var(--fill-color);\n",
              "      border-top-color: var(--fill-color);\n",
              "      border-right-color: var(--fill-color);\n",
              "    }\n",
              "    40% {\n",
              "      border-color: transparent;\n",
              "      border-right-color: var(--fill-color);\n",
              "      border-top-color: var(--fill-color);\n",
              "    }\n",
              "    60% {\n",
              "      border-color: transparent;\n",
              "      border-right-color: var(--fill-color);\n",
              "    }\n",
              "    80% {\n",
              "      border-color: transparent;\n",
              "      border-right-color: var(--fill-color);\n",
              "      border-bottom-color: var(--fill-color);\n",
              "    }\n",
              "    90% {\n",
              "      border-color: transparent;\n",
              "      border-bottom-color: var(--fill-color);\n",
              "    }\n",
              "  }\n",
              "</style>\n",
              "\n",
              "      <script>\n",
              "        async function quickchart(key) {\n",
              "          const quickchartButtonEl =\n",
              "            document.querySelector('#' + key + ' button');\n",
              "          quickchartButtonEl.disabled = true;  // To prevent multiple clicks.\n",
              "          quickchartButtonEl.classList.add('colab-df-spinner');\n",
              "          try {\n",
              "            const charts = await google.colab.kernel.invokeFunction(\n",
              "                'suggestCharts', [key], {});\n",
              "          } catch (error) {\n",
              "            console.error('Error during call to suggestCharts:', error);\n",
              "          }\n",
              "          quickchartButtonEl.classList.remove('colab-df-spinner');\n",
              "          quickchartButtonEl.classList.add('colab-df-quickchart-complete');\n",
              "        }\n",
              "        (() => {\n",
              "          let quickchartButtonEl =\n",
              "            document.querySelector('#df-92f7dce5-af6d-4c50-a212-486abb192af5 button');\n",
              "          quickchartButtonEl.style.display =\n",
              "            google.colab.kernel.accessAllowed ? 'block' : 'none';\n",
              "        })();\n",
              "      </script>\n",
              "    </div>\n",
              "\n",
              "    </div>\n",
              "  </div>\n"
            ],
            "application/vnd.google.colaboratory.intrinsic+json": {
              "type": "dataframe",
              "variable_name": "df",
              "summary": "{\n  \"name\": \"df\",\n  \"rows\": 3650,\n  \"fields\": [\n    {\n      \"column\": \"Date\",\n      \"properties\": {\n        \"dtype\": \"date\",\n        \"min\": \"1981-01-01 00:00:00\",\n        \"max\": \"1990-12-31 00:00:00\",\n        \"num_unique_values\": 3650,\n        \"samples\": [\n          \"1984-08-06 00:00:00\",\n          \"1985-08-03 00:00:00\",\n          \"1981-08-18 00:00:00\"\n        ],\n        \"semantic_type\": \"\",\n        \"description\": \"\"\n      }\n    },\n    {\n      \"column\": \"Temp\",\n      \"properties\": {\n        \"dtype\": \"number\",\n        \"std\": 4.07183689939719,\n        \"min\": 0.0,\n        \"max\": 26.3,\n        \"num_unique_values\": 229,\n        \"samples\": [\n          1.7,\n          14.5,\n          13.3\n        ],\n        \"semantic_type\": \"\",\n        \"description\": \"\"\n      }\n    }\n  ]\n}"
            }
          },
          "metadata": {},
          "execution_count": 3
        }
      ],
      "source": [
        "df = pd.read_csv(data_dir, parse_dates=['Date'])\n",
        "df.head()"
      ]
    },
    {
      "cell_type": "code",
      "execution_count": 4,
      "id": "copyrighted-madonna",
      "metadata": {
        "id": "copyrighted-madonna",
        "colab": {
          "base_uri": "https://localhost:8080/"
        },
        "outputId": "e993ff6a-861c-4596-b49a-39949783fdea"
      },
      "outputs": [
        {
          "output_type": "stream",
          "name": "stdout",
          "text": [
            "number of samples: 3650\n",
            "number of train samples: 3000\n",
            "number of test samples: 650\n",
            "firsts trainn samples: [20.7 17.9 18.8 14.6 15.8 15.8 15.8 17.4 21.8 20. ]\n"
          ]
        }
      ],
      "source": [
        "temperatures = df['Temp'].values\n",
        "print('number of samples:', len(temperatures))\n",
        "train_data = temperatures[:3000]\n",
        "test_data = temperatures[3000:]\n",
        "print('number of train samples:', len(train_data))\n",
        "print('number of test samples:', len(test_data))\n",
        "print('firsts trainn samples:', train_data[:10])"
      ]
    },
    {
      "cell_type": "markdown",
      "id": "adapted-brief",
      "metadata": {
        "id": "adapted-brief"
      },
      "source": [
        "<a name='3.1'></a>\n",
        "## Cuestión 1: Convierta `train_data` y `test_data`  en ventanas de tamaño 5, para predecir el valor en 2 días\n",
        "\n",
        "En la nomenclatura de [Introduction_to_RNN_Time_Series.ipynb](https://github.com/ezponda/intro_deep_learning/blob/main/class/RNN/Introduction_to_RNN_Time_Series.ipynb)\n",
        "```python\n",
        "past, future = (5, 2)\n",
        "```\n",
        "\n",
        "Para las primeras 10 muestras de train_data `[20.7, 17.9, 18.8, 14.6, 15.8, 15.8, 15.8, 17.4, 21.8, 20. ]` el resultado debería ser:\n",
        "\n",
        "```python\n",
        "x[0] : [20.7, 17.9, 18.8, 14.6, 15.8] , y[0]: 15.8\n",
        "x[1] : [17.9, 18.8, 14.6, 15.8, 15.8] , y[1]: 17.4\n",
        "x[2] : [18.8, 14.6, 15.8, 15.8, 15.8] , y[2]: 21.8\n",
        "x[3] : [14.6, 15.8, 15.8, 15.8, 17.4] , y[3]: 20.             \n",
        "```"
      ]
    },
    {
      "cell_type": "code",
      "execution_count": 5,
      "id": "conscious-teaching",
      "metadata": {
        "id": "conscious-teaching"
      },
      "outputs": [],
      "source": [
        "# windowing function\n",
        "def create_windows_np(data, window_size, horizon, shuffle=False):\n",
        "    \"\"\"\n",
        "    Creates a dataset from the given time series data using NumPy.\n",
        "\n",
        "    Parameters:\n",
        "    data (np.ndarray): Time series data with one dimension.\n",
        "    window_size (int): The number of past time steps to use as input features.\n",
        "    horizon (int): The number of future time steps to predict.\n",
        "    shuffle (bool): Shuffle the windows or not.\n",
        "\n",
        "    Returns:\n",
        "    tuple: A tuple containing the input-output pairs (windows, targets) as NumPy arrays.\n",
        "    \"\"\"\n",
        "\n",
        "    X, y = [], []\n",
        "    for i in range(len(data) - window_size - horizon + 1):\n",
        "        X.append(data[i:i+window_size])\n",
        "        y.append(data[i+window_size+horizon-1])\n",
        "\n",
        "    X, y = np.array(X, dtype=np.float32)[..., np.newaxis], np.array(y, dtype=np.float32)\n",
        "\n",
        "    if shuffle:\n",
        "        indices = np.arange(len(X))\n",
        "        np.random.shuffle(indices)\n",
        "        X, y = X[indices], y[indices]\n",
        "\n",
        "    return X, y"
      ]
    },
    {
      "cell_type": "code",
      "execution_count": 6,
      "id": "joint-annotation",
      "metadata": {
        "id": "joint-annotation",
        "colab": {
          "base_uri": "https://localhost:8080/"
        },
        "outputId": "fce61f70-9ad2-486a-a16d-2640f12431a6"
      },
      "outputs": [
        {
          "output_type": "stream",
          "name": "stdout",
          "text": [
            "Train shape: (2994, 5, 1)\n",
            "Test shape: (644, 5, 1)\n",
            "x[0] : [20.7, 17.9, 18.8, 14.6, 15.8] , y[0]: 15.8\n",
            "x[1] : [17.9, 18.8, 14.6, 15.8, 15.8] , y[1]: 17.4\n",
            "x[2] : [18.8, 14.6, 15.8, 15.8, 15.8] , y[2]: 21.8\n",
            "x[3] : [14.6, 15.8, 15.8, 15.8, 17.4] , y[3]: 20.0\n"
          ]
        }
      ],
      "source": [
        "past, future = (5, 2)\n",
        "##X_train, y_train = ...\n",
        "X_train, y_train = create_windows_np(train_data, past, future, shuffle=False)\n",
        "X_test, y_test = create_windows_np(test_data, past, future, shuffle=False)\n",
        "print(f'Train shape: {X_train.shape}')\n",
        "print(f'Test shape: {X_test.shape}')\n",
        "\n",
        "for i in range(4):\n",
        "    x_list = [round(float(v), 1) for v in X_train[i, :, 0]]\n",
        "    y_val = round(float(y_train[i]), 1)\n",
        "    print(f\"x[{i}] : {x_list} , y[{i}]: {y_val}\")"
      ]
    },
    {
      "cell_type": "markdown",
      "id": "electrical-junior",
      "metadata": {
        "id": "electrical-junior"
      },
      "source": [
        "<a name='3.2'></a>\n",
        "## Cuestión 2: Cree un modelo recurrente de dos capas GRU para predecir con las ventanas de la cuestión anterior.\n"
      ]
    },
    {
      "cell_type": "code",
      "execution_count": 8,
      "id": "aboriginal-complaint",
      "metadata": {
        "id": "aboriginal-complaint",
        "colab": {
          "base_uri": "https://localhost:8080/",
          "height": 211
        },
        "outputId": "db59ca6e-9676-4ce6-cea8-632a2094b4b8"
      },
      "outputs": [
        {
          "output_type": "error",
          "ename": "NameError",
          "evalue": "name 'timesteps' is not defined",
          "traceback": [
            "\u001b[0;31m---------------------------------------------------------------------------\u001b[0m",
            "\u001b[0;31mNameError\u001b[0m                                 Traceback (most recent call last)",
            "\u001b[0;32m/tmp/ipython-input-4291914168.py\u001b[0m in \u001b[0;36m<cell line: 0>\u001b[0;34m()\u001b[0m\n\u001b[1;32m      1\u001b[0m \u001b[0;31m#inputs = keras.layers.Input(shape=(..., ...))\u001b[0m\u001b[0;34m\u001b[0m\u001b[0;34m\u001b[0m\u001b[0m\n\u001b[0;32m----> 2\u001b[0;31m \u001b[0minputs\u001b[0m \u001b[0;34m=\u001b[0m \u001b[0mkeras\u001b[0m\u001b[0;34m.\u001b[0m\u001b[0mlayers\u001b[0m\u001b[0;34m.\u001b[0m\u001b[0mInput\u001b[0m\u001b[0;34m(\u001b[0m\u001b[0mshape\u001b[0m\u001b[0;34m=\u001b[0m\u001b[0;34m(\u001b[0m\u001b[0mtimesteps\u001b[0m\u001b[0;34m,\u001b[0m \u001b[0mfeatures\u001b[0m\u001b[0;34m)\u001b[0m\u001b[0;34m,\u001b[0m \u001b[0mname\u001b[0m\u001b[0;34m=\u001b[0m\u001b[0;34m'input'\u001b[0m\u001b[0;34m)\u001b[0m\u001b[0;34m\u001b[0m\u001b[0;34m\u001b[0m\u001b[0m\n\u001b[0m\u001b[1;32m      3\u001b[0m \u001b[0mlstm_1\u001b[0m \u001b[0;34m=\u001b[0m \u001b[0mlayers\u001b[0m\u001b[0;34m.\u001b[0m\u001b[0mGRU\u001b[0m\u001b[0;34m(\u001b[0m\u001b[0;36m64\u001b[0m\u001b[0;34m,\u001b[0m \u001b[0mreturn_sequences\u001b[0m\u001b[0;34m=\u001b[0m\u001b[0;32mTrue\u001b[0m\u001b[0;34m,\u001b[0m \u001b[0mname\u001b[0m\u001b[0;34m=\u001b[0m\u001b[0;34m'lstm_1'\u001b[0m\u001b[0;34m)\u001b[0m\u001b[0;34m(\u001b[0m\u001b[0minputs\u001b[0m\u001b[0;34m)\u001b[0m\u001b[0;34m\u001b[0m\u001b[0;34m\u001b[0m\u001b[0m\n\u001b[1;32m      4\u001b[0m \u001b[0mlstm_2\u001b[0m \u001b[0;34m=\u001b[0m \u001b[0mlayers\u001b[0m\u001b[0;34m.\u001b[0m\u001b[0mGRU\u001b[0m\u001b[0;34m(\u001b[0m\u001b[0;36m64\u001b[0m\u001b[0;34m,\u001b[0m \u001b[0mreturn_sequences\u001b[0m\u001b[0;34m=\u001b[0m\u001b[0;32mFalse\u001b[0m\u001b[0;34m,\u001b[0m \u001b[0mname\u001b[0m\u001b[0;34m=\u001b[0m\u001b[0;34m'lstm_2'\u001b[0m\u001b[0;34m)\u001b[0m\u001b[0;34m(\u001b[0m\u001b[0mlstm_1\u001b[0m\u001b[0;34m)\u001b[0m\u001b[0;34m\u001b[0m\u001b[0;34m\u001b[0m\u001b[0m\n\u001b[1;32m      5\u001b[0m \u001b[0mmodel\u001b[0m \u001b[0;34m=\u001b[0m \u001b[0mkeras\u001b[0m\u001b[0;34m.\u001b[0m\u001b[0mModel\u001b[0m\u001b[0;34m(\u001b[0m\u001b[0minputs\u001b[0m\u001b[0;34m=\u001b[0m\u001b[0minputs\u001b[0m\u001b[0;34m,\u001b[0m \u001b[0moutputs\u001b[0m\u001b[0;34m=\u001b[0m\u001b[0mlstm_3\u001b[0m\u001b[0;34m,\u001b[0m \u001b[0mname\u001b[0m\u001b[0;34m=\u001b[0m\u001b[0;34m'rnn_example'\u001b[0m\u001b[0;34m)\u001b[0m\u001b[0;34m\u001b[0m\u001b[0;34m\u001b[0m\u001b[0m\n",
            "\u001b[0;31mNameError\u001b[0m: name 'timesteps' is not defined"
          ]
        }
      ],
      "source": [
        "#inputs = keras.layers.Input(shape=(..., ...))\n",
        "inputs = keras.layers.Input(shape=(timesteps, features), name='input')\n",
        "lstm_1 = layers.GRU(64, return_sequences=True, name='lstm_1')(inputs)\n",
        "lstm_2 = layers.GRU(64, return_sequences=False, name='lstm_2')(lstm_1)\n",
        "model = keras.Model(inputs=inputs, outputs=lstm_3, name='rnn_example')\n",
        "model.compile(\n",
        "    optimizer='adam',\n",
        "    loss='binary_crossentropy',\n",
        "    metrics=['accuracy']\n",
        ")\n",
        "\n",
        "#...\n",
        "#model = keras.Model(inputs=..., outputs=...)\n",
        "#model.compile(...)\n",
        "model.summary()"
      ]
    },
    {
      "cell_type": "code",
      "execution_count": null,
      "id": "applicable-longer",
      "metadata": {
        "id": "applicable-longer"
      },
      "outputs": [],
      "source": [
        "es_callback = keras.callbacks.EarlyStopping(\n",
        "    monitor=\"val_loss\", min_delta=0, patience=10)\n",
        "\n",
        "history = model.fit(\n",
        "    X_train, y_train,\n",
        "    epochs=200,\n",
        "    validation_split=0.2, shuffle=True, batch_size = 64, callbacks=[es_callback]\n",
        ")"
      ]
    },
    {
      "cell_type": "code",
      "execution_count": null,
      "id": "stone-province",
      "metadata": {
        "id": "stone-province"
      },
      "outputs": [],
      "source": [
        "results = model.evaluate(X_test, y_test, verbose=1)\n",
        "print('Test Loss: {}'.format(results))"
      ]
    },
    {
      "cell_type": "markdown",
      "id": "genetic-guitar",
      "metadata": {
        "id": "genetic-guitar"
      },
      "source": [
        "<a name='3.3'></a>\n",
        "## Cuestión 3: Añada más features a la series temporal, por ejemplo `portion_year`. Cree un modelo que mejore al anterior.\n"
      ]
    },
    {
      "cell_type": "code",
      "execution_count": null,
      "id": "prospective-master",
      "metadata": {
        "id": "prospective-master"
      },
      "outputs": [],
      "source": [
        "## Puede añadir más features\n",
        "df['portion_year'] = df['Date'].dt.dayofyear / 365.0\n",
        "df_multi = df[['Temp', 'portion_year']].copy()\n",
        "\n",
        "## train - test split\n",
        "train_data = df_multi.iloc[:3000].copy()\n",
        "test_data = df_multi.loc[3000:, :].copy()"
      ]
    },
    {
      "cell_type": "code",
      "execution_count": null,
      "id": "threaded-sheriff",
      "metadata": {
        "id": "threaded-sheriff"
      },
      "outputs": [],
      "source": [
        "## Create windows\n",
        "X_train, y_train = ...\n",
        "X_test, y_test = ..."
      ]
    },
    {
      "cell_type": "code",
      "execution_count": null,
      "id": "stable-estate",
      "metadata": {
        "id": "stable-estate"
      },
      "outputs": [],
      "source": [
        "inputs = keras.layers.Input(shape=(..., ...))\n",
        "...\n",
        "model = keras.Model(inputs=..., outputs=...)\n",
        "model.compile(...)\n",
        "model.summary()"
      ]
    },
    {
      "cell_type": "code",
      "execution_count": null,
      "id": "structured-philip",
      "metadata": {
        "id": "structured-philip"
      },
      "outputs": [],
      "source": [
        "es_callback = keras.callbacks.EarlyStopping(\n",
        "    monitor=\"val_loss\", min_delta=0, patience=10)\n",
        "\n",
        "history = model.fit(\n",
        "    X_train, y_train,\n",
        "    epochs=200,\n",
        "    validation_split=0.2, shuffle=True, batch_size = 64, callbacks=[es_callback]\n",
        ")"
      ]
    },
    {
      "cell_type": "code",
      "execution_count": null,
      "id": "assigned-afternoon",
      "metadata": {
        "id": "assigned-afternoon"
      },
      "outputs": [],
      "source": [
        "results = model.evaluate(X_test, y_test, verbose=1)\n",
        "print('Test Loss: {}'.format(results))"
      ]
    },
    {
      "cell_type": "markdown",
      "id": "precise-tract",
      "metadata": {
        "id": "precise-tract"
      },
      "source": [
        "<a name='3.4'></a>\n",
        "## Cuestión 4: ¿En cuáles de estas aplicaciones se usaría un arquitectura 'many-to-one'?\n",
        "\n",
        "**a)** Clasificación de sentimiento en textos\n",
        "\n",
        "**b)** Verificación de voz para iniciar el ordenador.\n",
        "\n",
        "**c)** Generación de música.\n",
        "\n",
        "**d)** Un clasificador que clasifique piezas de música según su autor.\n"
      ]
    },
    {
      "cell_type": "markdown",
      "id": "professional-mayor",
      "metadata": {
        "id": "professional-mayor"
      },
      "source": []
    },
    {
      "cell_type": "markdown",
      "id": "fallen-error",
      "metadata": {
        "id": "fallen-error"
      },
      "source": [
        "<a name='3.5'></a>\n",
        "## Cuestión 5: ¿Qué ventajas aporta el uso de word embeddings?\n",
        "\n",
        "**a)** Permiten reducir la dimensión de entrada respecto al one-hot encoding.\n",
        "\n",
        "**b)** Permiten descubrir la similaridad entre palabras de manera más intuitiva que con one-hot encoding.\n",
        "\n",
        "**c)** Son una manera de realizar transfer learning en nlp.\n",
        "\n",
        "**d)** Permiten visualizar las relaciones entre palabras con métodos de reducción de dimensioones como el PCA.\n"
      ]
    },
    {
      "cell_type": "markdown",
      "id": "stylish-polish",
      "metadata": {
        "id": "stylish-polish"
      },
      "source": []
    }
  ],
  "metadata": {
    "kernelspec": {
      "display_name": "Python 3",
      "language": "python",
      "name": "python3"
    },
    "language_info": {
      "codemirror_mode": {
        "name": "ipython",
        "version": 3
      },
      "file_extension": ".py",
      "mimetype": "text/x-python",
      "name": "python",
      "nbconvert_exporter": "python",
      "pygments_lexer": "ipython3",
      "version": "3.8.8"
    },
    "latex_envs": {
      "LaTeX_envs_menu_present": true,
      "autoclose": false,
      "autocomplete": true,
      "bibliofile": "biblio.bib",
      "cite_by": "apalike",
      "current_citInitial": 1,
      "eqLabelWithNumbers": true,
      "eqNumInitial": 1,
      "hotkeys": {
        "equation": "Ctrl-E",
        "itemize": "Ctrl-I"
      },
      "labels_anchors": false,
      "latex_user_defs": false,
      "report_style_numbering": false,
      "user_envs_cfg": false
    },
    "colab": {
      "provenance": []
    }
  },
  "nbformat": 4,
  "nbformat_minor": 5
}